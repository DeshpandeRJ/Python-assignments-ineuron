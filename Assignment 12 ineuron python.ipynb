{
 "cells": [
  {
   "cell_type": "markdown",
   "id": "7810b4a0",
   "metadata": {},
   "source": [
    "### 1. In what modes should the PdfFileReader() and PdfFileWriter() File objects will be opened?\n",
    "#### Ans:\n",
    "Read-binary ('rb') for PdfFileReader() and write-binary ('wb') for PdfFileWriter()"
   ]
  },
  {
   "cell_type": "markdown",
   "id": "7f8804ed",
   "metadata": {},
   "source": [
    "### 2. From a PdfFileReader object, how do you get a Page object for page 5?\n",
    "#### Ans:\n",
    "Calling getPage(4) will return a Page object, since page 0 is the first page.\n",
    "\n",
    "\"\"\"\n",
    "#code\n",
    "#import PyPDF2 as pdf\n",
    "#pdfFileObj = open(\"meetingminutes.pdf\",'rb')\n",
    "#pdfReader = pdf.PdfFileReader(pdfFileObj)\n",
    "#pageObj = pdfReader.getPage(4)\n",
    "#pageObj.extractText()\n",
    "\n",
    "\"\"\""
   ]
  },
  {
   "cell_type": "markdown",
   "id": "96eb87c5",
   "metadata": {},
   "source": [
    "### 3. What PdfFileReader variable stores the number of pages in the PDF document?\n",
    "#### Ans:\n",
    "The numPages variable stores an integer of the number of pages in the PdfFileReader object.\n",
    "\"\"\"\n",
    "#code\n",
    "#import PyPDF2 as pdf\n",
    "#pdfFileObj = open(\"meetingminutes.pdf\",'rb')\n",
    "#pdfReader = pdf.PdfFileReader(pdfFileObj)\n",
    "#pdfReader.numPages\n",
    "\n",
    "\"\"\""
   ]
  },
  {
   "cell_type": "markdown",
   "id": "b0601ee0",
   "metadata": {},
   "source": [
    "### 4. If a PdfFileReader object’s PDF is encrypted with the password swordfish, what must you do before you can obtain Page objects from it?\n",
    "#### Ans:\n",
    "before obtain the page object the pdf has to be decrypted by calling .decrypted('swordfish')\n",
    "\"\"\"\n",
    "#code\n",
    "#pdfReader.decrypt('swordfish')\n",
    "\"\"\""
   ]
  },
  {
   "cell_type": "markdown",
   "id": "82000659",
   "metadata": {},
   "source": [
    "### 5. What methods do you use to rotate a page?\n",
    "#### Ans:\n",
    "the rotateclockwise() and rotatecounterclockwise() methods are used. at what degrees to rotate is passed as integer argument.\n",
    "\"\"\"\n",
    "#code\n",
    "#pageObj.rotateClockwise(180)\n",
    "\n",
    "\"\"\""
   ]
  },
  {
   "cell_type": "markdown",
   "id": "14191d5e",
   "metadata": {},
   "source": [
    "### 6. What is the difference between a Run object and a Paragraph object?\n",
    "#### Ans:\n",
    "\"\"\"\n",
    "\n",
    "A document contains multiple paragraphs. A paragraph begins on a new line and contains multiple runs. \n",
    "\n",
    "The Document object contains a list of Paragraph objects for the paragraphs in the document. (A new paragraph begins \n",
    "whenever the user presses ENTER or RETURN while typing in a Word document.)\n",
    "\n",
    "Runs are contiguous groups of characters within the a paragraph.\n",
    "\n",
    "\"\"\""
   ]
  },
  {
   "cell_type": "markdown",
   "id": "1cc9b306",
   "metadata": {},
   "source": [
    "### 7. How do you obtain a list of Paragraph objects for a Document object that’s stored in a variable named doc?\n",
    "#### ans:\n",
    "By using doc.paragraphs\n",
    "\"\"\"\n",
    "\n",
    "#code\n",
    "#!pip install python-docx\n",
    "#import docx\n",
    "#doc = docx.Document('demo.docx')\n",
    "#doc.paragraphs\n",
    "\n",
    "\"\"\""
   ]
  },
  {
   "cell_type": "markdown",
   "id": "4755ded7",
   "metadata": {},
   "source": [
    "### 8. What type of object has bold, underline, italic, strike, and outline variables?\n",
    "#### Ans:\n",
    "A Run object has bold, underline, italic, strike and outline variables."
   ]
  },
  {
   "cell_type": "markdown",
   "id": "49d78b49",
   "metadata": {},
   "source": [
    "### 9. What is the difference between False, True, and None for the bold variable?\n",
    "#### Ans:\n",
    "True always makes the Run object bolded and False makes it always not bolded, no matter what the style’s bold setting is. None will make the Run object just use the style’s bold setting"
   ]
  },
  {
   "cell_type": "markdown",
   "id": "c8b1871b",
   "metadata": {},
   "source": [
    "### 10. How do you create a Document object for a new Word document?\n",
    "#### Ans:\n",
    "Call the docx.Document() function."
   ]
  },
  {
   "cell_type": "markdown",
   "id": "f3bf0e48",
   "metadata": {},
   "source": [
    "### 11. How do you add a paragraph with the text 'Hello, there!' to a Document object stored in a variable named doc?\n",
    "#### Ans:\n",
    "by simply writting doc.add_paragraph('Hello there!')\n",
    "\"\"\"\n",
    "#code\n",
    "#import docx\n",
    "#doc = docx.Document()\n",
    "\n",
    "#doc.add_paragraph('Hello there!')\n",
    "#doc.save('hellothere.docx')\n",
    "\n",
    "\"\"\""
   ]
  },
  {
   "cell_type": "markdown",
   "id": "1e0bbc50",
   "metadata": {},
   "source": [
    "### 12. What integers represent the levels of headings available in Word documents?\n",
    "#### Ans:\n",
    "Not getting the question"
   ]
  },
  {
   "cell_type": "code",
   "execution_count": null,
   "id": "090db57a",
   "metadata": {},
   "outputs": [],
   "source": []
  }
 ],
 "metadata": {
  "kernelspec": {
   "display_name": "Python 3 (ipykernel)",
   "language": "python",
   "name": "python3"
  },
  "language_info": {
   "codemirror_mode": {
    "name": "ipython",
    "version": 3
   },
   "file_extension": ".py",
   "mimetype": "text/x-python",
   "name": "python",
   "nbconvert_exporter": "python",
   "pygments_lexer": "ipython3",
   "version": "3.7.11"
  }
 },
 "nbformat": 4,
 "nbformat_minor": 5
}
