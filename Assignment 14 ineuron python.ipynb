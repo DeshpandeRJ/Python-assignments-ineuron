{
 "cells": [
  {
   "cell_type": "markdown",
   "id": "9a49d02e",
   "metadata": {},
   "source": [
    "### 1. What does RGBA stand for?\n",
    "#### Ans:\n",
    "RGBA stands for the Red, Green, Blue and alpha (transparency) in the color\n",
    "\n",
    "RGBA value is a tuple of 4 integers, each ranging from 0 to 255. The four integers correspond \n",
    "to the amount of red, green, blue, and alpha (transparency) in the color   \n"
   ]
  },
  {
   "cell_type": "markdown",
   "id": "aefe12f8",
   "metadata": {},
   "source": [
    "### 2. From the Pillow module, how do you get the RGBA value of any images?\n",
    "#### Ans:"
   ]
  },
  {
   "cell_type": "code",
   "execution_count": 1,
   "id": "b5c6c55e",
   "metadata": {},
   "outputs": [
    {
     "data": {
      "text/plain": [
       "(255, 255, 0, 255)"
      ]
     },
     "execution_count": 1,
     "metadata": {},
     "output_type": "execute_result"
    }
   ],
   "source": [
    "from PIL import ImageColor\n",
    "ImageColor.getcolor('blue', 'RGBA')\n",
    "ImageColor.getcolor('yellow', 'RGBA')"
   ]
  },
  {
   "cell_type": "markdown",
   "id": "b5e24403",
   "metadata": {},
   "source": [
    "### 3. What is a box tuple, and how does it work?\n",
    "#### Ans:\n",
    "A box tuple is a tuple value of four integers: the left edge x-coordinate, the top edge y-coordinate, the width, and the height, respectively\n",
    "\n",
    "This means Pillow is expecting a tuple of four integer coordinates that represent a rectangular region in an image. The four integers are, in order, as follows:\n",
    "\n",
    "Left: The x-coordinate of the leftmost edge of the box.\n",
    "\n",
    "Top: The y-coordinate of the top edge of the box.\n",
    "\n",
    "Right: The x-coordinate of one pixel to the right of the rightmost edge of the box. This integer must be greater than the left integer.\n",
    "\n",
    "Bottom: The y-coordinate of one pixel lower than the bottom edge of the box. This integer must be greater than the top integer.\n",
    "\n"
   ]
  },
  {
   "cell_type": "markdown",
   "id": "0f68a2f8",
   "metadata": {},
   "source": [
    "### 4. Use your image and load in notebook then, How can you find out the width and height of an Image object?\n",
    "#### Ans:"
   ]
  },
  {
   "cell_type": "code",
   "execution_count": 2,
   "id": "e1f237c7",
   "metadata": {},
   "outputs": [],
   "source": [
    "from PIL import Image"
   ]
  },
  {
   "cell_type": "code",
   "execution_count": 3,
   "id": "8edb8d44",
   "metadata": {
    "scrolled": true
   },
   "outputs": [
    {
     "data": {
      "text/plain": [
       "(1767, 2046)"
      ]
     },
     "execution_count": 3,
     "metadata": {},
     "output_type": "execute_result"
    }
   ],
   "source": [
    "\n",
    "Img = Image.open(r'C:\\Users\\hp\\Pictures\\RD.jpg')\n",
    "w,h = Img.size\n",
    "w,h"
   ]
  },
  {
   "cell_type": "markdown",
   "id": "c30df885",
   "metadata": {},
   "source": [
    "### 5. What method would you call to get Image object for a 100×100 image, excluding the lower-left quarter of it?\n",
    "#### Ans:\n",
    "ImageObject.crop((0, 100, 100, 0))"
   ]
  },
  {
   "cell_type": "markdown",
   "id": "c832c2ed",
   "metadata": {},
   "source": [
    "### 6. After making changes to an Image object, how could you save it as an image file?\n",
    "#### Ans:\n",
    "By Calling the imageObj.save('new_filename.png') method of the Image object."
   ]
  },
  {
   "cell_type": "markdown",
   "id": "5f63b7f9",
   "metadata": {},
   "source": [
    "### 7. What module contains Pillow’s shape-drawing code?\n",
    "#### Ans:\n",
    "ImageDraw module of the Python image processing library Pillow (PIL) provides many methods for drawing figures, such as circles, squares, and straight lines."
   ]
  },
  {
   "cell_type": "markdown",
   "id": "9ded7607",
   "metadata": {},
   "source": [
    "### 8. Image objects do not have drawing methods. What kind of object does? How do you get this kind of object?\n",
    "#### Ans:\n",
    "ImageDraw objects have shape-drawing methods such as point(), line(), or rectangle(). They are returned by passing the Image object to the ImageDraw.Draw() function\n"
   ]
  },
  {
   "cell_type": "code",
   "execution_count": null,
   "id": "9a76c1b8",
   "metadata": {},
   "outputs": [],
   "source": []
  }
 ],
 "metadata": {
  "kernelspec": {
   "display_name": "Python 3 (ipykernel)",
   "language": "python",
   "name": "python3"
  },
  "language_info": {
   "codemirror_mode": {
    "name": "ipython",
    "version": 3
   },
   "file_extension": ".py",
   "mimetype": "text/x-python",
   "name": "python",
   "nbconvert_exporter": "python",
   "pygments_lexer": "ipython3",
   "version": "3.7.11"
  }
 },
 "nbformat": 4,
 "nbformat_minor": 5
}
