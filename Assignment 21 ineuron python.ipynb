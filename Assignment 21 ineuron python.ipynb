{
 "cells": [
  {
   "cell_type": "markdown",
   "id": "229a9c9a",
   "metadata": {},
   "source": [
    "### 1. Add the current date to the text file today.txt as a string.\n",
    "#### Ans:"
   ]
  },
  {
   "cell_type": "code",
   "execution_count": 1,
   "id": "54ca6acd",
   "metadata": {},
   "outputs": [
    {
     "data": {
      "text/plain": [
       "'2022-04-27'"
      ]
     },
     "execution_count": 1,
     "metadata": {},
     "output_type": "execute_result"
    }
   ],
   "source": [
    "import datetime\n",
    "from datetime import date\n",
    "now = date.today()\n",
    "curr_date=now.isoformat()\n",
    "curr_date"
   ]
  },
  {
   "cell_type": "code",
   "execution_count": 2,
   "id": "735e6ac8",
   "metadata": {},
   "outputs": [],
   "source": [
    "with open('today.txt','w') as file:\n",
    "    file.write(curr_date)"
   ]
  },
  {
   "cell_type": "markdown",
   "id": "83ea48ee",
   "metadata": {},
   "source": [
    "### 2. Read the text file today.txt into the string today_string\n",
    "#### Ans:"
   ]
  },
  {
   "cell_type": "code",
   "execution_count": 3,
   "id": "b355df89",
   "metadata": {},
   "outputs": [
    {
     "data": {
      "text/plain": [
       "'2022-04-27'"
      ]
     },
     "execution_count": 3,
     "metadata": {},
     "output_type": "execute_result"
    }
   ],
   "source": [
    "with open('today.txt','r') as file:\n",
    "    today_string = file.read()\n",
    "today_string"
   ]
  },
  {
   "cell_type": "markdown",
   "id": "03696af0",
   "metadata": {},
   "source": [
    "### 3. Parse the date from today_string.\n",
    "#### Ans:"
   ]
  },
  {
   "cell_type": "code",
   "execution_count": 4,
   "id": "21f0a5d4",
   "metadata": {},
   "outputs": [
    {
     "data": {
      "text/plain": [
       "datetime.datetime(2022, 4, 27, 0, 0)"
      ]
     },
     "execution_count": 4,
     "metadata": {},
     "output_type": "execute_result"
    }
   ],
   "source": [
    "from datetime import datetime\n",
    "format = '%Y-%m-%d'\n",
    "datetime.strptime(today_string,format)"
   ]
  },
  {
   "cell_type": "markdown",
   "id": "c9f14671",
   "metadata": {},
   "source": [
    "### 4. List the files in your current directory\n",
    "#### Ans:"
   ]
  },
  {
   "cell_type": "code",
   "execution_count": 5,
   "id": "acf5d12b",
   "metadata": {},
   "outputs": [
    {
     "data": {
      "text/plain": [
       "[' Pyforest and univariate, bivariate and multivariate.ipynb',\n",
       " '.anaconda',\n",
       " '.conda',\n",
       " '.condarc',\n",
       " '.config',\n",
       " '.ipynb_checkpoints',\n",
       " '.ipython',\n",
       " '.jupyter',\n",
       " '.keras',\n",
       " '.matplotlib',\n",
       " '.pyforest',\n",
       " '.spyder-py3',\n",
       " '.vscode',\n",
       " '3D Objects',\n",
       " 'Anaconda3',\n",
       " 'AppData',\n",
       " 'Application Data',\n",
       " 'Assignment',\n",
       " 'Assignment 1 ineuron python.ipynb',\n",
       " 'Assignment 1 python programming basic .ipynb',\n",
       " 'Assignment 10 ineuron python.ipynb',\n",
       " 'Assignment 10 python programming basic.ipynb',\n",
       " 'Assignment 11 ineuron python.ipynb',\n",
       " 'Assignment 11 python programming basic.ipynb',\n",
       " 'Assignment 12 ineuron python.ipynb',\n",
       " 'Assignment 12 python programming basic.ipynb',\n",
       " 'Assignment 13 ineuron python.ipynb',\n",
       " 'Assignment 13 python programming basic.ipynb',\n",
       " 'Assignment 14 ineuron python.ipynb',\n",
       " 'Assignment 14 python programming basic.ipynb',\n",
       " 'Assignment 15 ineuron python.ipynb',\n",
       " 'Assignment 15 python programming basic.ipynb',\n",
       " 'Assignment 16 ineuron python.ipynb',\n",
       " 'Assignment 16 python programming basic.ipynb',\n",
       " 'Assignment 17 ineuron python.ipynb',\n",
       " 'Assignment 17 python programming basic.ipynb',\n",
       " 'Assignment 18 ineuron python.ipynb',\n",
       " 'Assignment 18 python programming basic.ipynb',\n",
       " 'Assignment 19 ineuron python.ipynb',\n",
       " 'Assignment 19 python programming basic.ipynb',\n",
       " 'Assignment 2 ineuron python.ipynb',\n",
       " 'Assignment 2 python programming basic.ipynb',\n",
       " 'Assignment 20 ineuron python.ipynb',\n",
       " 'Assignment 20 python programming basic.ipynb',\n",
       " 'Assignment 21 ineuron python.ipynb',\n",
       " 'Assignment 21 python programming basic.ipynb',\n",
       " 'Assignment 22 python programming basic.ipynb',\n",
       " 'Assignment 23 python programming basic.ipynb',\n",
       " 'Assignment 24 python programming basic.ipynb',\n",
       " 'Assignment 25 python programming basic.ipynb',\n",
       " 'Assignment 3 ineuron python.ipynb',\n",
       " 'Assignment 3 python programming basic.ipynb',\n",
       " 'Assignment 4 ineuron python.ipynb',\n",
       " 'Assignment 4 python programming basic.ipynb',\n",
       " 'Assignment 5 ineuron python.ipynb',\n",
       " 'Assignment 5 python programming basic.ipynb',\n",
       " 'Assignment 6 ineuron python.ipynb',\n",
       " 'Assignment 6 python programming basic.ipynb',\n",
       " 'Assignment 7 ineuron python.ipynb',\n",
       " 'Assignment 7 python programming basic.ipynb',\n",
       " 'Assignment 8 ineuron python.ipynb',\n",
       " 'Assignment 8 python programming basic.ipynb',\n",
       " 'Assignment 9 ineuron python.ipynb',\n",
       " 'Assignment 9 python programming basic.ipynb',\n",
       " 'book NN',\n",
       " 'book.csv',\n",
       " 'books.db',\n",
       " 'cache',\n",
       " 'chapter 1 basic.ipynb',\n",
       " 'chapter 1 basics - Classifying Iris Species( knn).ipynb',\n",
       " 'Contacts',\n",
       " 'Cookies',\n",
       " 'Create Acronyms using Python.ipynb',\n",
       " 'cropped.png',\n",
       " 'Desktop',\n",
       " 'Documents',\n",
       " 'Downloads',\n",
       " 'Favorites',\n",
       " 'Functions.ipynb',\n",
       " 'IntelGraphicsProfiles',\n",
       " 'Jedi',\n",
       " 'K nearest neighbor classification ( Supervised learning 2).ipynb',\n",
       " 'Linear models -Copy1.ipynb',\n",
       " 'Linear models .ipynb',\n",
       " 'Links',\n",
       " 'Local Settings',\n",
       " 'Logistic Regression.ipynb',\n",
       " 'Machine Learning Assignment',\n",
       " 'MicrosoftEdgeBackups',\n",
       " 'Missin values feature engineering 1.ipynb',\n",
       " 'mongodb.ipynb',\n",
       " 'msql connection.ipynb',\n",
       " 'multicolinarity prblm.ipynb',\n",
       " 'Music',\n",
       " 'My Documents',\n",
       " 'N N Book',\n",
       " 'Naive bayes.ipynb',\n",
       " 'NetHood',\n",
       " 'NTUSER.DAT',\n",
       " 'ntuser.dat.LOG1',\n",
       " 'ntuser.dat.LOG2',\n",
       " 'NTUSER.DAT{53b39e88-18c4-11ea-a811-000d3aa4692b}.TM.blf',\n",
       " 'NTUSER.DAT{53b39e88-18c4-11ea-a811-000d3aa4692b}.TMContainer00000000000000000001.regtrans-ms',\n",
       " 'NTUSER.DAT{53b39e88-18c4-11ea-a811-000d3aa4692b}.TMContainer00000000000000000002.regtrans-ms',\n",
       " 'ntuser.ini',\n",
       " 'one vs rest logistic regression.ipynb',\n",
       " 'OneDrive',\n",
       " 'output.csv',\n",
       " 'oversmpling in imbalnced data (credit card fraud).ipynb',\n",
       " 'Pictures',\n",
       " 'Postman',\n",
       " 'PrintHood',\n",
       " 'Project ExcelR.py',\n",
       " 'PycharmProjects',\n",
       " 'pythonProject',\n",
       " 'pywhatkit_dbs.txt',\n",
       " 'random_forest_regression_model.pkl',\n",
       " 'Rd.jpg',\n",
       " 'RD.png',\n",
       " 'Recent',\n",
       " 'Saved Games',\n",
       " 'ScStore',\n",
       " 'seaborn tutorial.ipynb',\n",
       " 'seaborn-data',\n",
       " 'Searches',\n",
       " 'Sending Whatsapp msg.ipynb',\n",
       " 'SendTo',\n",
       " 'Start Menu',\n",
       " 'Supervised learning 1 .ipynb',\n",
       " 'Templates',\n",
       " 'test.txt',\n",
       " 'today.txt',\n",
       " 'Tutorial 1.ipynb',\n",
       " 'Tutorial 2 numpy .ipynb',\n",
       " 'Tutorial on Csv .ipynb',\n",
       " 'tutorial Pandas.ipynb',\n",
       " 'under sampling ( credit card fraud data).ipynb',\n",
       " 'Untitled-1.txt',\n",
       " 'Untitled.ipynb',\n",
       " 'untitled.txt',\n",
       " 'Untitled1.ipynb',\n",
       " 'untitled1.txt',\n",
       " 'Untitled11.ipynb',\n",
       " 'Untitled12.ipynb',\n",
       " 'Untitled13.ipynb',\n",
       " 'Untitled14.ipynb',\n",
       " 'Untitled2.ipynb',\n",
       " 'Untitled3.ipynb',\n",
       " 'Untitled4.ipynb',\n",
       " 'Untitled5.ipynb',\n",
       " 'Untitled6.ipynb',\n",
       " 'Untitled7.ipynb',\n",
       " 'Untitled8.ipynb',\n",
       " 'Untitled9.ipynb',\n",
       " 'Videos',\n",
       " 'Zomato',\n",
       " 'zoo.ipynb',\n",
       " 'zoo.py',\n",
       " '__pycache__']"
      ]
     },
     "execution_count": 5,
     "metadata": {},
     "output_type": "execute_result"
    }
   ],
   "source": [
    "import os\n",
    "os.listdir('.')"
   ]
  },
  {
   "cell_type": "markdown",
   "id": "0a43fdb0",
   "metadata": {},
   "source": [
    "### 5. Create a list of all of the files in your parent directory (minimum five files should be available).\n",
    "#### Ans:"
   ]
  },
  {
   "cell_type": "code",
   "execution_count": 6,
   "id": "af67d25c",
   "metadata": {},
   "outputs": [
    {
     "data": {
      "text/plain": [
       "['All Users', 'Default', 'Default User', 'desktop.ini', 'hp', 'Public']"
      ]
     },
     "execution_count": 6,
     "metadata": {},
     "output_type": "execute_result"
    }
   ],
   "source": [
    "os.listdir('..')"
   ]
  },
  {
   "cell_type": "markdown",
   "id": "583c67f6",
   "metadata": {},
   "source": [
    "### 6. Use multiprocessing to create three separate processes. Make each one wait a random number of seconds between one and five, print the current time, and then exit.\n",
    "#### Ans:"
   ]
  },
  {
   "cell_type": "code",
   "execution_count": null,
   "id": "e42f7902",
   "metadata": {},
   "outputs": [],
   "source": []
  },
  {
   "cell_type": "markdown",
   "id": "3c8e836c",
   "metadata": {},
   "source": [
    "### 7. Create a date object of your day of birth.\n",
    "#### Ans:"
   ]
  },
  {
   "cell_type": "code",
   "execution_count": 7,
   "id": "bd170268",
   "metadata": {},
   "outputs": [
    {
     "data": {
      "text/plain": [
       "datetime.date(1996, 5, 20)"
      ]
     },
     "execution_count": 7,
     "metadata": {},
     "output_type": "execute_result"
    }
   ],
   "source": [
    "birthdate = date(1996,5,20)\n",
    "birthdate"
   ]
  },
  {
   "cell_type": "markdown",
   "id": "c14e1c9e",
   "metadata": {},
   "source": [
    "### 8. What day of the week was your day of birth?\n",
    "#### Ans:"
   ]
  },
  {
   "cell_type": "code",
   "execution_count": 8,
   "id": "f72b57a4",
   "metadata": {},
   "outputs": [
    {
     "data": {
      "text/plain": [
       "0"
      ]
     },
     "execution_count": 8,
     "metadata": {},
     "output_type": "execute_result"
    }
   ],
   "source": [
    "birthdate.weekday()"
   ]
  },
  {
   "cell_type": "markdown",
   "id": "378e6200",
   "metadata": {},
   "source": [
    "### 9. When will you be (or when were you) 10,000 days old?\n",
    "#### Ans:"
   ]
  },
  {
   "cell_type": "code",
   "execution_count": 9,
   "id": "96ee392c",
   "metadata": {},
   "outputs": [],
   "source": [
    "from datetime import timedelta"
   ]
  },
  {
   "cell_type": "code",
   "execution_count": 10,
   "id": "e7f3521b",
   "metadata": {},
   "outputs": [
    {
     "data": {
      "text/plain": [
       "datetime.date(2023, 10, 6)"
      ]
     },
     "execution_count": 10,
     "metadata": {},
     "output_type": "execute_result"
    }
   ],
   "source": [
    "day10000 = birthdate + timedelta(days = 10000)\n",
    "day10000"
   ]
  },
  {
   "cell_type": "code",
   "execution_count": null,
   "id": "d510fa88",
   "metadata": {},
   "outputs": [],
   "source": []
  }
 ],
 "metadata": {
  "kernelspec": {
   "display_name": "Python 3 (ipykernel)",
   "language": "python",
   "name": "python3"
  },
  "language_info": {
   "codemirror_mode": {
    "name": "ipython",
    "version": 3
   },
   "file_extension": ".py",
   "mimetype": "text/x-python",
   "name": "python",
   "nbconvert_exporter": "python",
   "pygments_lexer": "ipython3",
   "version": "3.7.11"
  }
 },
 "nbformat": 4,
 "nbformat_minor": 5
}
