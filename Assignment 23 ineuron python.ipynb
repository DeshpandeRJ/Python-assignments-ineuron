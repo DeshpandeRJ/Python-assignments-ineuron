{
 "cells": [
  {
   "cell_type": "markdown",
   "id": "79b0a3cf",
   "metadata": {},
   "source": [
    "### 1. What is the result of the code, and why?\n",
    "#### Ans:\n",
    "The function is taking a positional argument and  2 keyword arguments. when function get executed with parameters (1, 2) it updates val of b and parameter c=8 will be taken by default as its a keyword argument."
   ]
  },
  {
   "cell_type": "code",
   "execution_count": 1,
   "id": "477db455",
   "metadata": {},
   "outputs": [
    {
     "name": "stdout",
     "output_type": "stream",
     "text": [
      "1 2 8\n"
     ]
    }
   ],
   "source": [
    "def func(a, b=6, c=8):\n",
    "    print(a,b,c)\n",
    "func(1, 2)"
   ]
  },
  {
   "cell_type": "markdown",
   "id": "620cb667",
   "metadata": {},
   "source": [
    "### 2. What is the result of this code, and why?\n",
    "#### Ans:\n",
    "When we calls function, order will be first positional argument and then keywords arguments. we can pass the keyword arguments in any order we want."
   ]
  },
  {
   "cell_type": "code",
   "execution_count": 2,
   "id": "34fad43d",
   "metadata": {},
   "outputs": [
    {
     "name": "stdout",
     "output_type": "stream",
     "text": [
      "1 2 3\n"
     ]
    }
   ],
   "source": [
    "def fun(a, b, c=5):\n",
    "    print(a, b, c)\n",
    "func(1, c=3, b=2)"
   ]
  },
  {
   "cell_type": "markdown",
   "id": "ad7ce90a",
   "metadata": {},
   "source": [
    "### 3. How about this code: what is its result, and why?\n",
    "#### Ans:\n",
    "The return type of *args parameter is tuple, where as **kargs will be dictionary"
   ]
  },
  {
   "cell_type": "code",
   "execution_count": 3,
   "id": "38afc7b8",
   "metadata": {},
   "outputs": [
    {
     "name": "stdout",
     "output_type": "stream",
     "text": [
      "1 (2, 3)\n"
     ]
    }
   ],
   "source": [
    "def func(a, *pargs):\n",
    "    print(a, pargs)\n",
    "func(1, 2, 3)"
   ]
  },
  {
   "cell_type": "markdown",
   "id": "d55dea18",
   "metadata": {},
   "source": [
    "### 4. What does this code print, and why?\n",
    "#### Ans:\n",
    "The return type of  **kargs is  dictionary"
   ]
  },
  {
   "cell_type": "code",
   "execution_count": 4,
   "id": "da624047",
   "metadata": {},
   "outputs": [
    {
     "name": "stdout",
     "output_type": "stream",
     "text": [
      "1 {'c': 3, 'b': 2}\n"
     ]
    }
   ],
   "source": [
    "def func(a, **kargs):\n",
    "    print(a, kargs)\n",
    "func(a=1, c=3, b=2)"
   ]
  },
  {
   "cell_type": "markdown",
   "id": "c5dfa549",
   "metadata": {},
   "source": [
    "### 5. What gets printed by this, and explain?\n",
    "#### Ans:\n",
    "'*' is the unpacking operator and are operators that unpack the values from iterable objects in Python. The single asterisk operator * can be used on any iterable that Python provides, while the double asterisk operator ** can only be used on dictionaries. In the example the value *(5,6) will be unpacked and will be assigned to b and c and passed as arguments, d =5 will taken by defaults are keyword arguments.\n",
    "   "
   ]
  },
  {
   "cell_type": "code",
   "execution_count": 5,
   "id": "99008e99",
   "metadata": {},
   "outputs": [
    {
     "name": "stdout",
     "output_type": "stream",
     "text": [
      "1 5 6 5\n"
     ]
    }
   ],
   "source": [
    "def func(a, b, c=8, d=5):\n",
    "    print(a, b, c, d)\n",
    "func(1, *(5, 6))"
   ]
  },
  {
   "cell_type": "markdown",
   "id": "085b8287",
   "metadata": {},
   "source": [
    "### 6. what is the result of this, and explain?\n",
    "#### Ans:\n",
    "Here in the code, the list and dict are passed as argument, and those are mutable. Here the list l and parametr b point \n",
    "to the same list in the memeory location where as dict n and c point to the same memory location. Any updates to this \n",
    "list will update in the memory location\n"
   ]
  },
  {
   "cell_type": "code",
   "execution_count": 6,
   "id": "db7c2f49",
   "metadata": {},
   "outputs": [
    {
     "data": {
      "text/plain": [
       "(1, ['x'], {'a': 'y'})"
      ]
     },
     "execution_count": 6,
     "metadata": {},
     "output_type": "execute_result"
    }
   ],
   "source": [
    "def func(a, b, c):\n",
    "    a = 2; b[0] = 'x'; c['a'] = 'y'\n",
    "l=1; m=[1]; n={'a':0}\n",
    "func(l, m, n)\n",
    "l, m, n"
   ]
  },
  {
   "cell_type": "code",
   "execution_count": null,
   "id": "68596d38",
   "metadata": {},
   "outputs": [],
   "source": []
  }
 ],
 "metadata": {
  "kernelspec": {
   "display_name": "Python 3 (ipykernel)",
   "language": "python",
   "name": "python3"
  },
  "language_info": {
   "codemirror_mode": {
    "name": "ipython",
    "version": 3
   },
   "file_extension": ".py",
   "mimetype": "text/x-python",
   "name": "python",
   "nbconvert_exporter": "python",
   "pygments_lexer": "ipython3",
   "version": "3.7.11"
  }
 },
 "nbformat": 4,
 "nbformat_minor": 5
}
