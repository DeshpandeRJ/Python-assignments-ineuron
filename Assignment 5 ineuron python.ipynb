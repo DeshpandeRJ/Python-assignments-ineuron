{
 "cells": [
  {
   "cell_type": "markdown",
   "id": "bed13e02",
   "metadata": {},
   "source": [
    "### 1. What does an empty dictionary's code look like?\n",
    "#### Ans:\n",
    "dic = {}"
   ]
  },
  {
   "cell_type": "code",
   "execution_count": 1,
   "id": "cd57dbef",
   "metadata": {},
   "outputs": [
    {
     "data": {
      "text/plain": [
       "dict"
      ]
     },
     "execution_count": 1,
     "metadata": {},
     "output_type": "execute_result"
    }
   ],
   "source": [
    "dic = {}\n",
    "type(dic)"
   ]
  },
  {
   "cell_type": "markdown",
   "id": "b0a305e5",
   "metadata": {},
   "source": [
    "### 2. What is the value of a dictionary value with the key 'foo' and the value 42?\n",
    "#### Ans:"
   ]
  },
  {
   "cell_type": "code",
   "execution_count": 2,
   "id": "e26b7148",
   "metadata": {},
   "outputs": [
    {
     "data": {
      "text/plain": [
       "{'foo': 42}"
      ]
     },
     "execution_count": 2,
     "metadata": {},
     "output_type": "execute_result"
    }
   ],
   "source": [
    "{'foo' : 42}"
   ]
  },
  {
   "cell_type": "markdown",
   "id": "bd87bc89",
   "metadata": {},
   "source": [
    "### 3. What is the most significant distinction between a dictionary and a list?\n",
    "#### Ans:\n",
    "#### List: \n",
    "elements in the list are ordered. not written in the form of key-value pair.\n",
    "#### Dictionary :\n",
    "elements in the dictionary are unordered. elements are stored in key-value pair."
   ]
  },
  {
   "cell_type": "markdown",
   "id": "2c8b41a7",
   "metadata": {},
   "source": [
    "#### 4. What happens if you try to access spam['foo'] if spam is {'bar': 100}?\n",
    "### Ans:\n",
    "it will throw an key error."
   ]
  },
  {
   "cell_type": "code",
   "execution_count": 3,
   "id": "ce775156",
   "metadata": {},
   "outputs": [
    {
     "ename": "KeyError",
     "evalue": "'foo'",
     "output_type": "error",
     "traceback": [
      "\u001b[1;31m---------------------------------------------------------------------------\u001b[0m",
      "\u001b[1;31mKeyError\u001b[0m                                  Traceback (most recent call last)",
      "\u001b[1;32m~\\AppData\\Local\\Temp/ipykernel_21024/414641506.py\u001b[0m in \u001b[0;36m<module>\u001b[1;34m\u001b[0m\n\u001b[0;32m      1\u001b[0m \u001b[0mspam\u001b[0m \u001b[1;33m=\u001b[0m \u001b[1;33m{\u001b[0m\u001b[1;34m'bar'\u001b[0m\u001b[1;33m:\u001b[0m \u001b[1;36m100\u001b[0m\u001b[1;33m}\u001b[0m\u001b[1;33m\u001b[0m\u001b[1;33m\u001b[0m\u001b[0m\n\u001b[1;32m----> 2\u001b[1;33m \u001b[0mspam\u001b[0m\u001b[1;33m[\u001b[0m\u001b[1;34m'foo'\u001b[0m\u001b[1;33m]\u001b[0m\u001b[1;33m\u001b[0m\u001b[1;33m\u001b[0m\u001b[0m\n\u001b[0m",
      "\u001b[1;31mKeyError\u001b[0m: 'foo'"
     ]
    }
   ],
   "source": [
    "spam = {'bar': 100}\n",
    "spam['foo']"
   ]
  },
  {
   "cell_type": "markdown",
   "id": "b479393b",
   "metadata": {},
   "source": [
    "### 5. If a dictionary is stored in spam, what is the difference between the expressions 'cat' in spam and 'cat' in spam.keys()?\n",
    "#### Ans:\n",
    "There is no differnce, both check that 'cat' is the key of the dictionary or not  and if its a key then it returns True."
   ]
  },
  {
   "cell_type": "code",
   "execution_count": 4,
   "id": "20b585e9",
   "metadata": {},
   "outputs": [
    {
     "data": {
      "text/plain": [
       "True"
      ]
     },
     "execution_count": 4,
     "metadata": {},
     "output_type": "execute_result"
    }
   ],
   "source": [
    "spam = {'cat': 'ok'}\n",
    "'cat' in spam"
   ]
  },
  {
   "cell_type": "code",
   "execution_count": 5,
   "id": "6f51cab8",
   "metadata": {},
   "outputs": [
    {
     "data": {
      "text/plain": [
       "True"
      ]
     },
     "execution_count": 5,
     "metadata": {},
     "output_type": "execute_result"
    }
   ],
   "source": [
    "'cat' in spam.keys()"
   ]
  },
  {
   "cell_type": "markdown",
   "id": "90bbed54",
   "metadata": {},
   "source": [
    "### 6. If a dictionary is stored in spam, what is the difference between the expressions 'cat' in spam and 'cat' in spam.values()?\n",
    "#### Ans:\n",
    "'cat' in spam checks whether there is a 'cat' key in the dictionary.\n",
    "\n",
    "'cat' in spam.values() checks whether there is a value 'cat' for one of the keys in spam."
   ]
  },
  {
   "cell_type": "code",
   "execution_count": 6,
   "id": "7d3de43f",
   "metadata": {},
   "outputs": [
    {
     "data": {
      "text/plain": [
       "True"
      ]
     },
     "execution_count": 6,
     "metadata": {},
     "output_type": "execute_result"
    }
   ],
   "source": [
    "spam = {'cat': 'ok'}\n",
    "'cat' in spam"
   ]
  },
  {
   "cell_type": "code",
   "execution_count": 7,
   "id": "ec5adacc",
   "metadata": {},
   "outputs": [
    {
     "data": {
      "text/plain": [
       "False"
      ]
     },
     "execution_count": 7,
     "metadata": {},
     "output_type": "execute_result"
    }
   ],
   "source": [
    "'cat' in spam.values()"
   ]
  },
  {
   "cell_type": "markdown",
   "id": "20901b75",
   "metadata": {},
   "source": [
    "### 7. What is a shortcut for the following code?\n",
    "if 'color' not in spam:\n",
    "spam['color'] = 'black'\n",
    "#### Ans:\n",
    "by using function setdefault() which Inserts key with a value of default if key is not in the dictionary"
   ]
  },
  {
   "cell_type": "code",
   "execution_count": 8,
   "id": "95d9c22c",
   "metadata": {},
   "outputs": [
    {
     "data": {
      "text/plain": [
       "{'cat': 'ok', 'color': 'black'}"
      ]
     },
     "execution_count": 8,
     "metadata": {},
     "output_type": "execute_result"
    }
   ],
   "source": [
    "spam = {'cat': 'ok'}\n",
    "spam.setdefault('color','black')\n",
    "spam"
   ]
  },
  {
   "cell_type": "markdown",
   "id": "02255295",
   "metadata": {},
   "source": [
    "### 8. How do you \"pretty print\" dictionary values using which module and function?\n",
    "#### Ans:\n",
    "Pretty printing means to present something in a more readable format or style"
   ]
  },
  {
   "cell_type": "code",
   "execution_count": 9,
   "id": "dce8a323",
   "metadata": {},
   "outputs": [],
   "source": [
    "import pprint"
   ]
  },
  {
   "cell_type": "code",
   "execution_count": 10,
   "id": "3ef535a4",
   "metadata": {},
   "outputs": [],
   "source": [
    "dct1 = [ {'Name': 'harish', 'Age': '25', 'Country': 'India'},\n",
    "  {'Name': 'subhash', 'Age': '21', 'Country': 'India'},\n",
    "  {'Name': 'akshay', 'Age': '26', 'Country': 'India'},\n",
    "  {'Name': 'Hrishi', 'Age': '26', 'Country': 'India'}]"
   ]
  },
  {
   "cell_type": "code",
   "execution_count": 11,
   "id": "148546ae",
   "metadata": {},
   "outputs": [
    {
     "name": "stdout",
     "output_type": "stream",
     "text": [
      "[{'Age': '25', 'Country': 'India', 'Name': 'harish'},\n",
      " {'Age': '21', 'Country': 'India', 'Name': 'subhash'},\n",
      " {'Age': '26', 'Country': 'India', 'Name': 'akshay'},\n",
      " {'Age': '26', 'Country': 'India', 'Name': 'Hrishi'}]\n"
     ]
    }
   ],
   "source": [
    "# printing with pprint()\n",
    "pprint.pprint(dct1)"
   ]
  },
  {
   "cell_type": "code",
   "execution_count": 12,
   "id": "f442e7ea",
   "metadata": {},
   "outputs": [
    {
     "name": "stdout",
     "output_type": "stream",
     "text": [
      "[{'Name': 'harish', 'Age': '25', 'Country': 'India'}, {'Name': 'subhash', 'Age': '21', 'Country': 'India'}, {'Name': 'akshay', 'Age': '26', 'Country': 'India'}, {'Name': 'Hrishi', 'Age': '26', 'Country': 'India'}]\n"
     ]
    }
   ],
   "source": [
    "#Printing with print()\n",
    "print(dct1)"
   ]
  },
  {
   "cell_type": "code",
   "execution_count": null,
   "id": "a6a76329",
   "metadata": {},
   "outputs": [],
   "source": []
  }
 ],
 "metadata": {
  "kernelspec": {
   "display_name": "Python 3 (ipykernel)",
   "language": "python",
   "name": "python3"
  },
  "language_info": {
   "codemirror_mode": {
    "name": "ipython",
    "version": 3
   },
   "file_extension": ".py",
   "mimetype": "text/x-python",
   "name": "python",
   "nbconvert_exporter": "python",
   "pygments_lexer": "ipython3",
   "version": "3.7.11"
  }
 },
 "nbformat": 4,
 "nbformat_minor": 5
}
