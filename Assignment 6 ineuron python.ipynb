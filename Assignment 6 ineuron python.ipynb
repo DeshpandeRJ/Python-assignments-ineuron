{
 "cells": [
  {
   "cell_type": "markdown",
   "id": "8efd11c0",
   "metadata": {},
   "source": [
    "### 1. What are escape characters, and how do you use them?\n",
    "#### Ans:\n",
    "\"\"\"\n",
    "Escape characters represent characters in string values that would otherwise be difficult or impossible to type into code.\n",
    "\n",
    "To insert characters that are illegal in a string, use an escape character.\n",
    "\n",
    "An escape character is a backslash \\ followed by the character you want to insert.\n",
    "\n",
    "\"\"\""
   ]
  },
  {
   "cell_type": "code",
   "execution_count": 1,
   "id": "71a04c73",
   "metadata": {},
   "outputs": [
    {
     "data": {
      "text/plain": [
       "'Shivaji Maharaj was the \"greatest worrior\" of India.'"
      ]
     },
     "execution_count": 1,
     "metadata": {},
     "output_type": "execute_result"
    }
   ],
   "source": [
    "txt = \"Shivaji Maharaj was the \\\"greatest worrior\\\" of India.\"\n",
    "txt"
   ]
  },
  {
   "cell_type": "markdown",
   "id": "34515456",
   "metadata": {},
   "source": [
    "### 2. What do the escape characters n and t stand for?\n",
    "#### Ans:\n",
    "\"\"\"\n",
    "\\n used for newline.\n",
    "\n",
    "\\t used for tab.\n",
    "\n",
    "\"\"\""
   ]
  },
  {
   "cell_type": "code",
   "execution_count": 2,
   "id": "669ff928",
   "metadata": {},
   "outputs": [
    {
     "name": "stdout",
     "output_type": "stream",
     "text": [
      "Hello\tWorld!\n",
      "Hello\n",
      "World!\n"
     ]
    }
   ],
   "source": [
    "txt = \"Hello\\tWorld!\"    #\\t = tab\n",
    "print(txt) \n",
    "txt = \"Hello\\nWorld!\"    #\\n = newline\n",
    "print(txt) "
   ]
  },
  {
   "cell_type": "markdown",
   "id": "cefbddc0",
   "metadata": {},
   "source": [
    "### 3. What is the way to include backslash characters in a string?\n",
    "#### Ans:"
   ]
  },
  {
   "cell_type": "code",
   "execution_count": 3,
   "id": "e405be73",
   "metadata": {},
   "outputs": [],
   "source": [
    "#use \\\\ to add \\ in string"
   ]
  },
  {
   "cell_type": "code",
   "execution_count": 4,
   "id": "b3ede137",
   "metadata": {},
   "outputs": [
    {
     "name": "stdout",
     "output_type": "stream",
     "text": [
      "add \\ in string\n"
     ]
    }
   ],
   "source": [
    "print(\"add \\\\ in string\")"
   ]
  },
  {
   "cell_type": "markdown",
   "id": "f8f66423",
   "metadata": {},
   "source": [
    "### 4. The string \"Howl's Moving Castle\" is a correct value. Why isn't the single quote character in the word Howl's not escaped a problem?\n",
    "#### Ans:\n",
    "The single quote in Howl's is fine because we used double quotes in the beginning and end of the string. \n",
    "like wise we can use double quotes in with single quotes."
   ]
  },
  {
   "cell_type": "code",
   "execution_count": 5,
   "id": "028ee4f2",
   "metadata": {},
   "outputs": [
    {
     "name": "stdout",
     "output_type": "stream",
     "text": [
      "Howl's Moving Castle\n"
     ]
    }
   ],
   "source": [
    "print( \"Howl's Moving Castle\")    # single quote in double quote"
   ]
  },
  {
   "cell_type": "code",
   "execution_count": 6,
   "id": "682f22cc",
   "metadata": {},
   "outputs": [
    {
     "name": "stdout",
     "output_type": "stream",
     "text": [
      "Howls \"Moving\" Castle\n"
     ]
    }
   ],
   "source": [
    "print( 'Howls \"Moving\" Castle')   # double quote in single quotes"
   ]
  },
  {
   "cell_type": "markdown",
   "id": "91697448",
   "metadata": {},
   "source": [
    "### 5. How do you write a string of newlines if you don't want to use the n character?\n",
    "#### Ans:\n",
    "\"\"\"\n",
    "multiline strings allows us to write string of newline without using n\\ escape character.\n",
    "\n",
    "OR we can use the parameter end ='\\n' in print function.\n",
    "\n",
    "\"\"\""
   ]
  },
  {
   "cell_type": "markdown",
   "id": "5a678e2e",
   "metadata": {},
   "source": [
    "### 6. What are the values of the given expressions?\n",
    "\"\"\" \n",
    "'Hello, world!'[1]\n",
    "\n",
    "'Hello, world!'[0:5]\n",
    "\n",
    "'Hello, world!'[:5]\n",
    "\n",
    "'Hello, world!'[3:] \n",
    "\n",
    "\"\"\"\n",
    "#### Ans:"
   ]
  },
  {
   "cell_type": "code",
   "execution_count": 7,
   "id": "c9edd9db",
   "metadata": {},
   "outputs": [
    {
     "name": "stdout",
     "output_type": "stream",
     "text": [
      "'Hello, world!'[1] = e\n",
      "'Hello, world!'[0:5] = Hello\n",
      "'Hello, world!'[:5] = Hello\n",
      "'Hello, world!'[3:] = lo, world!\n"
     ]
    }
   ],
   "source": [
    "print(\"'Hello, world!'[1] = {}\".format('Hello, world!'[1]))\n",
    "print(\"'Hello, world!'[0:5] = {}\".format('Hello, world!'[0:5]))\n",
    "print(\"'Hello, world!'[:5] = {}\".format('Hello, world!'[:5]))\n",
    "print(\"'Hello, world!'[3:] = {}\".format('Hello, world!'[3:]))\n"
   ]
  },
  {
   "cell_type": "markdown",
   "id": "a0faee69",
   "metadata": {},
   "source": [
    "### 7. What are the values of the following expressions?\n",
    "\"\"\"\n",
    "\n",
    "'Hello'.upper()\n",
    "\n",
    "'Hello'.upper().isupper()\n",
    "\n",
    "'Hello'.upper().lower()\n",
    "\n",
    "\"\"\"\n",
    "#### Ans:"
   ]
  },
  {
   "cell_type": "code",
   "execution_count": 8,
   "id": "e23b9302",
   "metadata": {},
   "outputs": [
    {
     "name": "stdout",
     "output_type": "stream",
     "text": [
      "'Hello'.upper() = HELLO\n",
      "'Hello'.upper().isupper() = True\n",
      "'Hello'.upper().lower() = hello\n"
     ]
    }
   ],
   "source": [
    "print(\"'Hello'.upper() = {}\".format('Hello'.upper()))\n",
    "print(\"'Hello'.upper().isupper() = {}\".format('Hello'.upper().isupper()))\n",
    "print(\"'Hello'.upper().lower() = {}\".format('Hello'.upper().lower()))"
   ]
  },
  {
   "cell_type": "markdown",
   "id": "16390966",
   "metadata": {},
   "source": [
    "### 8. What are the values of the following expressions?\n",
    "\"\"\"\n",
    "\n",
    "1)'Remember, remember, the fifth of July.'.split()\n",
    "\n",
    "2)'-'.join('There can only one.'.split())\n",
    "\n",
    "\"\"\"\n",
    "#### Ans:"
   ]
  },
  {
   "cell_type": "code",
   "execution_count": 9,
   "id": "13cad4bd",
   "metadata": {},
   "outputs": [
    {
     "data": {
      "text/plain": [
       "['Remember,', 'remember,', 'the', 'fifth', 'of', 'July.']"
      ]
     },
     "execution_count": 9,
     "metadata": {},
     "output_type": "execute_result"
    }
   ],
   "source": [
    "'Remember, remember, the fifth of July.'.split()"
   ]
  },
  {
   "cell_type": "code",
   "execution_count": 10,
   "id": "9baea897",
   "metadata": {},
   "outputs": [
    {
     "data": {
      "text/plain": [
       "'There-can-only-one.'"
      ]
     },
     "execution_count": 10,
     "metadata": {},
     "output_type": "execute_result"
    }
   ],
   "source": [
    "'-'.join('There can only one.'.split())"
   ]
  },
  {
   "cell_type": "markdown",
   "id": "2a466cdf",
   "metadata": {},
   "source": [
    "### 9. What are the methods for right-justifying, left-justifying, and centering a string?\n",
    "#### Ans:\n",
    "\"\"\"\n",
    "\n",
    "The following methods are used for justifying strings\n",
    "\n",
    "1)left-justifying = ljust()\n",
    "\n",
    "2)right-justifying = rjust()\n",
    "\n",
    "3)centering = center()\n",
    "\n",
    "\"\"\"\n"
   ]
  },
  {
   "cell_type": "code",
   "execution_count": 11,
   "id": "4533d5b4",
   "metadata": {},
   "outputs": [
    {
     "data": {
      "text/plain": [
       "'Hello-----'"
      ]
     },
     "execution_count": 11,
     "metadata": {},
     "output_type": "execute_result"
    }
   ],
   "source": [
    "# left justified\n",
    "str =\"Hello\"\n",
    "str.ljust(10,\"-\")"
   ]
  },
  {
   "cell_type": "code",
   "execution_count": 12,
   "id": "5d5edda5",
   "metadata": {},
   "outputs": [
    {
     "data": {
      "text/plain": [
       "'*****Hello'"
      ]
     },
     "execution_count": 12,
     "metadata": {},
     "output_type": "execute_result"
    }
   ],
   "source": [
    "# right justified\n",
    "str =\"Hello\"\n",
    "str.rjust(10,\"*\")"
   ]
  },
  {
   "cell_type": "code",
   "execution_count": 13,
   "id": "da1379d1",
   "metadata": {},
   "outputs": [
    {
     "data": {
      "text/plain": [
       "'!!!Hello!!!'"
      ]
     },
     "execution_count": 13,
     "metadata": {},
     "output_type": "execute_result"
    }
   ],
   "source": [
    "# centering\n",
    "str =\"Hello\"\n",
    "str.center(11,\"!\")"
   ]
  },
  {
   "cell_type": "markdown",
   "id": "064b5503",
   "metadata": {},
   "source": [
    "### 10. What is the best way to remove whitespace characters from the start or end?\n",
    "#### Ans:\n",
    "\"\"\"\n",
    "lstrip() - removes white spaces from left end of the string.\n",
    "\n",
    "rstrip() - removes whitespaces from right end of the string.\n",
    "\n",
    "\"\"\""
   ]
  },
  {
   "cell_type": "code",
   "execution_count": 14,
   "id": "6d4858c5",
   "metadata": {},
   "outputs": [
    {
     "data": {
      "text/plain": [
       "'This is fsds batch. '"
      ]
     },
     "execution_count": 14,
     "metadata": {},
     "output_type": "execute_result"
    }
   ],
   "source": [
    "txt = \" This is fsds batch. \"\n",
    "txt.lstrip()"
   ]
  },
  {
   "cell_type": "code",
   "execution_count": 15,
   "id": "55858fc0",
   "metadata": {},
   "outputs": [
    {
     "data": {
      "text/plain": [
       "' This is fsds batch.'"
      ]
     },
     "execution_count": 15,
     "metadata": {},
     "output_type": "execute_result"
    }
   ],
   "source": [
    "txt = \" This is fsds batch. \"\n",
    "txt.rstrip()"
   ]
  },
  {
   "cell_type": "code",
   "execution_count": null,
   "id": "4238c249",
   "metadata": {},
   "outputs": [],
   "source": []
  }
 ],
 "metadata": {
  "kernelspec": {
   "display_name": "Python 3 (ipykernel)",
   "language": "python",
   "name": "python3"
  },
  "language_info": {
   "codemirror_mode": {
    "name": "ipython",
    "version": 3
   },
   "file_extension": ".py",
   "mimetype": "text/x-python",
   "name": "python",
   "nbconvert_exporter": "python",
   "pygments_lexer": "ipython3",
   "version": "3.7.11"
  }
 },
 "nbformat": 4,
 "nbformat_minor": 5
}
