{
 "cells": [
  {
   "cell_type": "markdown",
   "id": "f7406197",
   "metadata": {},
   "source": [
    "### 1. How do you distinguish between shutil.copy() and shutil.copytree()?\n",
    "#### Ans:\n",
    "#### shutile.copy():\n",
    "shutile.copy() copy only single file.\n",
    "\n",
    "#### shutile.copytree():\n",
    "shutile.copytree() copy entire folder and every folder and file contained in it.\n"
   ]
  },
  {
   "cell_type": "markdown",
   "id": "b1e200b9",
   "metadata": {},
   "source": [
    "### 2. What function is used to rename files?\n",
    "#### Ans:\n",
    "by using os.rename() we can rename the file name.\n"
   ]
  },
  {
   "cell_type": "markdown",
   "id": "68dea622",
   "metadata": {},
   "source": [
    "### 3. What is the difference between the delete functions in the send2trash and shutil modules?\n",
    "#### Ans:\n",
    "#### send2trash:\n",
    "using send2trash we can send file to trash or recycle bin instead of permenantly deleting it.\n",
    "If the directory contains files or other folders, those are also deleted. A TrashPermissionError exception is raised, \n",
    "in case a file could not be deleted due to permission error or any other unexpected reason.\n",
    "#### shutil modules :\n",
    "the shutil modules function rmtree() can be used to delete file or folder. But, this function delete the files\n",
    "permanently. \n",
    "The operations cannot be undone if there were any accidental deletions performed "
   ]
  },
  {
   "cell_type": "markdown",
   "id": "f12103ef",
   "metadata": {},
   "source": [
    "### 4.ZipFile objects have a close() method just like File objects’ close() method. What ZipFile method is equivalent to File objects’ open() method?\n",
    "#### Ans:\n",
    "The zipfile.ZipFile() function is equivalent to the open() function; the first argument is the filename, and the second argument is the mode to open the ZIP file in (read, write, or append)."
   ]
  },
  {
   "cell_type": "markdown",
   "id": "70b6af41",
   "metadata": {},
   "source": [
    "### 5. Create a programme that searches a folder tree for files with a certain file extension (such as .pdf or .jpg). Copy these files from whatever location they are in to a new folder.\n",
    "#### Ans:"
   ]
  },
  {
   "cell_type": "code",
   "execution_count": 1,
   "id": "0c6873c0",
   "metadata": {},
   "outputs": [
    {
     "name": "stdout",
     "output_type": "stream",
     "text": [
      "Looking in C:\\Users\\hp\\new folder for files with extensions of .pdf, .jpg\n"
     ]
    }
   ],
   "source": [
    "import os, shutil\n",
    "\n",
    "def selectiveCopy(folder, extensions, destFolder): \n",
    "    folder = os.path.abspath(folder)\n",
    "    destFolder = os.path.abspath(destFolder)\n",
    "    print('Looking in', folder, 'for files with extensions of', ', '.join(extensions))\n",
    "    for foldername, subfolders, filenames in os.walk(folder):\n",
    "        for filename in filenames:\n",
    "            name, extension = os.path.splitext(filename)\n",
    "            if extension in extensions:\n",
    "                fileAbsPath = foldername + os.path.sep + filename\n",
    "                print('Coping', fileAbsPath, 'to', destFolder)\n",
    "                shutil.copy(fileAbsPath, destFolder)\n",
    "\n",
    "extensions = ['.pdf', '.jpg']\n",
    "folder = 'new folder '\n",
    "destFolder = 'selectiveFolder'\n",
    "selectiveCopy(folder, extensions, destFolder)"
   ]
  },
  {
   "cell_type": "code",
   "execution_count": null,
   "id": "1e1df388",
   "metadata": {},
   "outputs": [],
   "source": []
  }
 ],
 "metadata": {
  "kernelspec": {
   "display_name": "Python 3 (ipykernel)",
   "language": "python",
   "name": "python3"
  },
  "language_info": {
   "codemirror_mode": {
    "name": "ipython",
    "version": 3
   },
   "file_extension": ".py",
   "mimetype": "text/x-python",
   "name": "python",
   "nbconvert_exporter": "python",
   "pygments_lexer": "ipython3",
   "version": "3.7.11"
  }
 },
 "nbformat": 4,
 "nbformat_minor": 5
}
