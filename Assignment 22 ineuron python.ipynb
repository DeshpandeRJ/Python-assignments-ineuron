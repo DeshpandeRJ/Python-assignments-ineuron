{
 "cells": [
  {
   "cell_type": "markdown",
   "id": "96e294e4",
   "metadata": {},
   "source": [
    "### 1. What is the result of the code, and explain?\n",
    "#### Ans:\n",
    "In the below code it prints the Global variable X. we can use global variable inside the function but cant use function variable outside the function."
   ]
  },
  {
   "cell_type": "code",
   "execution_count": 1,
   "id": "0674b6aa",
   "metadata": {},
   "outputs": [
    {
     "name": "stdout",
     "output_type": "stream",
     "text": [
      "iNeuron\n"
     ]
    }
   ],
   "source": [
    "X = 'iNeuron'\n",
    "def func():\n",
    "    print(X)\n",
    "func()"
   ]
  },
  {
   "cell_type": "markdown",
   "id": "85be179f",
   "metadata": {},
   "source": [
    "### 2. What is the result of the code, and explain?\n",
    "#### Ans:\n",
    "Global variables have access inside the function but function variable doesnt have outside the function.\n",
    "\n",
    "Since x is golbal variable we are able to print it out side of the function"
   ]
  },
  {
   "cell_type": "code",
   "execution_count": 2,
   "id": "bc5ec0cc",
   "metadata": {},
   "outputs": [
    {
     "name": "stdout",
     "output_type": "stream",
     "text": [
      "iNeuron\n"
     ]
    }
   ],
   "source": [
    "X = 'iNeuron'\n",
    "def func():\n",
    "    X = 'NI!'\n",
    "func()\n",
    "print(X)"
   ]
  },
  {
   "cell_type": "markdown",
   "id": "55fdbfb4",
   "metadata": {},
   "source": [
    "### 3. What does this code print, and why?\n",
    "#### Ans:\n",
    "when we use X inside function it gives output as NI! but when we use X outside the function then it works like global variable and gives output as iNeuron."
   ]
  },
  {
   "cell_type": "code",
   "execution_count": 3,
   "id": "26432ed8",
   "metadata": {},
   "outputs": [
    {
     "name": "stdout",
     "output_type": "stream",
     "text": [
      "NI!\n",
      "iNeuron\n"
     ]
    }
   ],
   "source": [
    "X = 'iNeuron'\n",
    "def func():\n",
    "    X = 'NI!'\n",
    "    print(X)\n",
    "\n",
    "func()\n",
    "print(X)"
   ]
  },
  {
   "cell_type": "markdown",
   "id": "ec5a4cf7",
   "metadata": {},
   "source": [
    "### 4. What output does this code produce? Why?\n",
    "#### Ans:\n",
    "By using Global key we made function variable as a global variable.so we can use outside the function as well. inshort x has new value."
   ]
  },
  {
   "cell_type": "code",
   "execution_count": 4,
   "id": "a017147b",
   "metadata": {},
   "outputs": [
    {
     "name": "stdout",
     "output_type": "stream",
     "text": [
      "NI!\n"
     ]
    }
   ],
   "source": [
    "X = 'iNeuron'\n",
    "def func():\n",
    "    global X\n",
    "    X = 'NI!'\n",
    "func()\n",
    "print(X)"
   ]
  },
  {
   "cell_type": "markdown",
   "id": "023a7d47",
   "metadata": {},
   "source": [
    "### 5. What about this code—what’s the output, and why?\n",
    "#### Ans:\n",
    "The nested() function will print 'iNeuron' and func() does not display anything since x ='NI' is not accessible out \n",
    "side the function."
   ]
  },
  {
   "cell_type": "code",
   "execution_count": 5,
   "id": "8482f893",
   "metadata": {},
   "outputs": [
    {
     "name": "stdout",
     "output_type": "stream",
     "text": [
      "iNeuron\n"
     ]
    },
    {
     "data": {
      "text/plain": [
       "'iNeuron'"
      ]
     },
     "execution_count": 5,
     "metadata": {},
     "output_type": "execute_result"
    }
   ],
   "source": [
    "X = 'iNeuron'\n",
    "def func():\n",
    "    X = 'NI!'\n",
    "    \n",
    "def nested():\n",
    "    print(X)\n",
    "nested()\n",
    "func()\n",
    "X"
   ]
  },
  {
   "cell_type": "markdown",
   "id": "add4a41c",
   "metadata": {},
   "source": [
    "### 6. How about this code: what is its output in Python 3, and explain?\n",
    "#### Ans:\n",
    "Nonlocal variables are used in nested functions whose local scope is not defined. \n",
    "This means that the variable can be neither in the local nor the global scope. it print the updated value from nested \n",
    "function\n"
   ]
  },
  {
   "cell_type": "code",
   "execution_count": 6,
   "id": "c8e2b0ed",
   "metadata": {},
   "outputs": [
    {
     "name": "stdout",
     "output_type": "stream",
     "text": [
      "spam\n"
     ]
    }
   ],
   "source": [
    "def func():\n",
    "    X = 'NI!'\n",
    "    def nested():\n",
    "        nonlocal X\n",
    "        X = 'spam'\n",
    "    nested()\n",
    "    print(X)\n",
    "func()"
   ]
  },
  {
   "cell_type": "code",
   "execution_count": null,
   "id": "75d144dc",
   "metadata": {},
   "outputs": [],
   "source": []
  }
 ],
 "metadata": {
  "kernelspec": {
   "display_name": "Python 3 (ipykernel)",
   "language": "python",
   "name": "python3"
  },
  "language_info": {
   "codemirror_mode": {
    "name": "ipython",
    "version": 3
   },
   "file_extension": ".py",
   "mimetype": "text/x-python",
   "name": "python",
   "nbconvert_exporter": "python",
   "pygments_lexer": "ipython3",
   "version": "3.7.11"
  }
 },
 "nbformat": 4,
 "nbformat_minor": 5
}
