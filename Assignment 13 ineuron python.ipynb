{
 "cells": [
  {
   "cell_type": "markdown",
   "id": "aedeebf0",
   "metadata": {},
   "source": [
    "### 1. What advantages do Excel spreadsheets have over CSV spreadsheets?\n",
    "#### Ans:\n",
    "#### Excel:\n",
    "Excel files can only be read by applications and not on any other systems, application or data platform.\n",
    "\n",
    "Excel is generally larger, slower and more complicated when compared to CSV\n",
    "\n",
    "Text editors cannot edit files saved in Excel format, and also, Excel file can be password protected.\n",
    "\n",
    "Reading large data set is much easier for the end-user to read, comprehend and understand when compared to CSV.\n",
    "\n",
    "Excel can be opened with Microsoft office only and does not support any other platform when compared to CSV.\n",
    "\n",
    "An Excel not only stores data but can also do operations on the data\n",
    " \n",
    "you can have additional functions like selecting individual cells for import, \n",
    "convert dates and time automatically, reading formulas and their results, filters, sorting, etc\n",
    "\n",
    "Apart from text, data can also be stored in form of charts and graphs\n",
    "\n",
    "In Excel, spreadsheets can have values of data types other than strings; cells can have different fonts, sizes, or color settings; cells can have varying widths and heights; adjacent cells can be merged"
   ]
  },
  {
   "cell_type": "markdown",
   "id": "530d2eb3",
   "metadata": {},
   "source": [
    "### 2.What do you pass to csv.reader() and csv.writer() to create reader and writer objects?\n",
    "#### Ans:\n",
    "First, call open() and pass it 'w' to open a file in write mode ❶. This will create the object you can then pass to csv.writer() ❷ to create a Writer object."
   ]
  },
  {
   "cell_type": "code",
   "execution_count": 2,
   "id": "b0a7c9d4",
   "metadata": {},
   "outputs": [
    {
     "data": {
      "text/plain": [
       "<_csv.writer at 0x1f2f0abe768>"
      ]
     },
     "execution_count": 2,
     "metadata": {},
     "output_type": "execute_result"
    }
   ],
   "source": [
    "import csv\n",
    "outputFile = open('output.csv', 'w', newline='')\n",
    "outputWriter = csv.writer(outputFile)\n",
    "outputWriter"
   ]
  },
  {
   "cell_type": "markdown",
   "id": "cadff710",
   "metadata": {},
   "source": [
    "### 3. What modes do File objects for reader and writer objects need to be opened in?\n",
    "#### Ans:\n",
    "File objects need to be opened in read-binary ('rb') for Reader objects and write-binary ('wb') for Writer objects"
   ]
  },
  {
   "cell_type": "markdown",
   "id": "ab8dca59",
   "metadata": {},
   "source": [
    "### 4. What method takes a list argument and writes it to a CSV file?\n",
    "#### Ams:\n",
    "The writerow() method"
   ]
  },
  {
   "cell_type": "code",
   "execution_count": 4,
   "id": "fbb9116e",
   "metadata": {},
   "outputs": [
    {
     "data": {
      "text/plain": [
       "17"
      ]
     },
     "execution_count": 4,
     "metadata": {},
     "output_type": "execute_result"
    }
   ],
   "source": [
    "opFile = open('output.csv','w')\n",
    "opWriter = csv.writer(opFile)\n",
    "csv.writer(opFile).writerow(['egg','orange','milk'])"
   ]
  },
  {
   "cell_type": "markdown",
   "id": "1269c7fe",
   "metadata": {},
   "source": [
    "### 5. What do the keyword arguments delimiter and line terminator do?\n",
    "#### Ans:\n",
    "\"\"\"\n",
    "\n",
    "Say you want to separate cells with a tab character instead of a comma and you want the rows to be double-spaced. You could enter something like the following into the interactive shell:\n",
    "\n",
    "#### code\n",
    "\n",
    "import csv\n",
    "\n",
    "csvFile = open('example.tsv', 'w', newline='')\n",
    "\n",
    "csvWriter = csv.writer(csvFile, delimiter='\\t', lineterminator='\\n\\n')\n",
    "\n",
    "This changes the delimiter and line terminator characters in your file. The delimiter is the character that appears between cells on a row. By default, the delimiter for a CSV file is a comma. The line terminator is the character that comes at the end of a row. By default, the line terminator is a newline. You can change characters to different values by using the delimiter and lineterminator keyword arguments with csv.writer().\n",
    "\n",
    "\"\"\""
   ]
  },
  {
   "cell_type": "markdown",
   "id": "a32e973e",
   "metadata": {},
   "source": [
    "### 6. What function takes a string of JSON data and returns a Python data structure?\n",
    "#### Ans:\n",
    "json.loads()"
   ]
  },
  {
   "cell_type": "markdown",
   "id": "b6123496",
   "metadata": {},
   "source": [
    "### 7. What function takes a Python data structure and returns a string of JSON data?\n",
    "#### Ans:\n",
    "json.dumps()"
   ]
  },
  {
   "cell_type": "code",
   "execution_count": null,
   "id": "da8b5cfd",
   "metadata": {},
   "outputs": [],
   "source": []
  }
 ],
 "metadata": {
  "kernelspec": {
   "display_name": "Python 3 (ipykernel)",
   "language": "python",
   "name": "python3"
  },
  "language_info": {
   "codemirror_mode": {
    "name": "ipython",
    "version": 3
   },
   "file_extension": ".py",
   "mimetype": "text/x-python",
   "name": "python",
   "nbconvert_exporter": "python",
   "pygments_lexer": "ipython3",
   "version": "3.7.11"
  }
 },
 "nbformat": 4,
 "nbformat_minor": 5
}
