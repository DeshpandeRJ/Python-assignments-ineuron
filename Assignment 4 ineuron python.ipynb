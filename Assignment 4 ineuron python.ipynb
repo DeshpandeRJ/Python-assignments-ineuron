{
 "cells": [
  {
   "cell_type": "markdown",
   "id": "24ff37ac",
   "metadata": {},
   "source": [
    "## 1. What exactly is []?\n",
    "### Ans :\n",
    "####  [] is the blank list or we can say empty list."
   ]
  },
  {
   "cell_type": "markdown",
   "id": "ae2da8ee",
   "metadata": {},
   "source": [
    "### 2.  In a list of values stored in a variable called spam, how would you assign the value 'hello' as the third value? (Assume [2, 4, 6, 8, 10] are in spam.)\n",
    "#### Ans:"
   ]
  },
  {
   "cell_type": "code",
   "execution_count": 1,
   "id": "dc6a5327",
   "metadata": {},
   "outputs": [
    {
     "data": {
      "text/plain": [
       "[2, 4, 'hello', 6, 8, 10]"
      ]
     },
     "execution_count": 1,
     "metadata": {},
     "output_type": "execute_result"
    }
   ],
   "source": [
    "# by inserting hello as 3rd value\n",
    "spam = [2, 4, 6, 8, 10]\n",
    "spam.insert(2,'hello')\n",
    "spam"
   ]
  },
  {
   "cell_type": "code",
   "execution_count": 2,
   "id": "25832ec2",
   "metadata": {},
   "outputs": [
    {
     "data": {
      "text/plain": [
       "[2, 4, 'hello', 8, 10]"
      ]
     },
     "execution_count": 2,
     "metadata": {},
     "output_type": "execute_result"
    }
   ],
   "source": [
    "# by replacing 3rd value by hello\n",
    "spam = [2, 4, 6, 8, 10]\n",
    "spam[2] = 'hello'\n",
    "spam"
   ]
  },
  {
   "cell_type": "markdown",
   "id": "5339369d",
   "metadata": {},
   "source": [
    "#### Let's pretend the spam includes the list  ['a', 'b', 'c', 'd']  for the next three queries."
   ]
  },
  {
   "cell_type": "markdown",
   "id": "3cf0bb21",
   "metadata": {},
   "source": [
    "## 3. What is the value of spam[int(int('3' * 2) / 11)]?\n",
    "### Ans:"
   ]
  },
  {
   "cell_type": "code",
   "execution_count": 3,
   "id": "63f27133",
   "metadata": {},
   "outputs": [
    {
     "data": {
      "text/plain": [
       "'d'"
      ]
     },
     "execution_count": 3,
     "metadata": {},
     "output_type": "execute_result"
    }
   ],
   "source": [
    "spam = ['a', 'b', 'c', 'd']\n",
    "spam[int(int('3' * 2) / 11)]      #int(int('3' * 2) / 11) = 3"
   ]
  },
  {
   "cell_type": "markdown",
   "id": "4e95fa00",
   "metadata": {},
   "source": [
    "### 4. What is the value of spam[-1]?\n",
    "#### Ans"
   ]
  },
  {
   "cell_type": "code",
   "execution_count": 4,
   "id": "c2d1f26c",
   "metadata": {},
   "outputs": [
    {
     "data": {
      "text/plain": [
       "'d'"
      ]
     },
     "execution_count": 4,
     "metadata": {},
     "output_type": "execute_result"
    }
   ],
   "source": [
    "spam[-1]"
   ]
  },
  {
   "cell_type": "markdown",
   "id": "7e0d1c23",
   "metadata": {},
   "source": [
    "### 5. What is the value of spam[:2]?\n",
    "#### Ans:"
   ]
  },
  {
   "cell_type": "code",
   "execution_count": 5,
   "id": "35952863",
   "metadata": {},
   "outputs": [
    {
     "data": {
      "text/plain": [
       "['a', 'b']"
      ]
     },
     "execution_count": 5,
     "metadata": {},
     "output_type": "execute_result"
    }
   ],
   "source": [
    "spam[:2]"
   ]
  },
  {
   "cell_type": "markdown",
   "id": "5ebad81b",
   "metadata": {},
   "source": [
    "#### Let's pretend bacon has the list [3.14, 'cat,' 11, 'cat,' True] for the next three questions."
   ]
  },
  {
   "cell_type": "markdown",
   "id": "7d300a7c",
   "metadata": {},
   "source": [
    "### 6. What is the value of bacon.index('cat')?\n",
    "#### Ans:"
   ]
  },
  {
   "cell_type": "code",
   "execution_count": 6,
   "id": "2e065a00",
   "metadata": {},
   "outputs": [
    {
     "data": {
      "text/plain": [
       "1"
      ]
     },
     "execution_count": 6,
     "metadata": {},
     "output_type": "execute_result"
    }
   ],
   "source": [
    "bacon = [3.14, 'cat', 11, 'cat', True]\n",
    "bacon.index('cat')"
   ]
  },
  {
   "cell_type": "markdown",
   "id": "59dc416f",
   "metadata": {},
   "source": [
    "### 7. How does bacon.append(99) change the look of the list value in bacon?\n",
    "#### Ans:"
   ]
  },
  {
   "cell_type": "code",
   "execution_count": 7,
   "id": "62b57ddc",
   "metadata": {},
   "outputs": [
    {
     "data": {
      "text/plain": [
       "[3.14, 'cat', 11, 'cat', True, 99]"
      ]
     },
     "execution_count": 7,
     "metadata": {},
     "output_type": "execute_result"
    }
   ],
   "source": [
    "bacon.append(99)\n",
    "bacon"
   ]
  },
  {
   "cell_type": "markdown",
   "id": "25e7d788",
   "metadata": {},
   "source": [
    "### 8. How does bacon.remove('cat') change the look of the list in bacon?\n",
    "#### Ans:"
   ]
  },
  {
   "cell_type": "code",
   "execution_count": 8,
   "id": "1c530af5",
   "metadata": {},
   "outputs": [
    {
     "data": {
      "text/plain": [
       "[3.14, 11, 'cat', True]"
      ]
     },
     "execution_count": 8,
     "metadata": {},
     "output_type": "execute_result"
    }
   ],
   "source": [
    "bacon = [3.14, 'cat', 11, 'cat', True]\n",
    "bacon.remove('cat')\n",
    "bacon"
   ]
  },
  {
   "cell_type": "markdown",
   "id": "c911cb62",
   "metadata": {},
   "source": [
    "### 9. What are the list concatenation and list replication operators?\n",
    "#### Ans:\n",
    "\"\"\"\n",
    "\n",
    "1) * = replication operator\n",
    " \n",
    "2) + = concatenation operator\n",
    " \n",
    " \"\"\"\n"
   ]
  },
  {
   "cell_type": "code",
   "execution_count": 9,
   "id": "c9abf263",
   "metadata": {},
   "outputs": [
    {
     "data": {
      "text/plain": [
       "[2, 5, 8, 8, 7, 9]"
      ]
     },
     "execution_count": 9,
     "metadata": {},
     "output_type": "execute_result"
    }
   ],
   "source": [
    "l1 = [2,5,8]\n",
    "l2 = [8,7,9]\n",
    "l1 + l2        #list concatenation"
   ]
  },
  {
   "cell_type": "code",
   "execution_count": 10,
   "id": "7fa6f628",
   "metadata": {},
   "outputs": [
    {
     "data": {
      "text/plain": [
       "[2, 5, 8, 2, 5, 8, 2, 5, 8]"
      ]
     },
     "execution_count": 10,
     "metadata": {},
     "output_type": "execute_result"
    }
   ],
   "source": [
    "l1 * 3        #list replication"
   ]
  },
  {
   "cell_type": "markdown",
   "id": "9ad868f5",
   "metadata": {},
   "source": [
    "### 10. What is difference between the list methods append() and insert()?\n",
    "#### Ans:\n",
    "\"\"\"\n",
    "insert() = inserts data at given index number.\n",
    "\n",
    "append() = inserts data at the end of list.\n",
    "\n",
    "\"\"\""
   ]
  },
  {
   "cell_type": "code",
   "execution_count": 11,
   "id": "bb93fd5d",
   "metadata": {},
   "outputs": [
    {
     "data": {
      "text/plain": [
       "[25, 15, 45, 'rd', 'ad', 'jd']"
      ]
     },
     "execution_count": 11,
     "metadata": {},
     "output_type": "execute_result"
    }
   ],
   "source": [
    "x = [25,15,45,'rd','jd']\n",
    "x.insert(4,'ad')          # inserting 'ad' at 4th index by using insert.\n",
    "x"
   ]
  },
  {
   "cell_type": "code",
   "execution_count": 12,
   "id": "50767674",
   "metadata": {},
   "outputs": [
    {
     "data": {
      "text/plain": [
       "[25, 15, 45, 'rd', 'jd', 'ad']"
      ]
     },
     "execution_count": 12,
     "metadata": {},
     "output_type": "execute_result"
    }
   ],
   "source": [
    "x = [25,15,45,'rd','jd']\n",
    "x.append('ad')           # inserting 'ad' at the end of list by append.\n",
    "x"
   ]
  },
  {
   "cell_type": "markdown",
   "id": "77c022fa",
   "metadata": {},
   "source": [
    "### 11. What are the two methods for removing items from a list?\n",
    "#### Ans:\n",
    "\"\"\"\n",
    "1) remove() = remove deletes the first occurence from the list.\n",
    "\n",
    "2) pop() = pop deletes the last element from the list.\n",
    "\n",
    "3) del(list) = delete the whole list.\n",
    "\n",
    "\"\"\""
   ]
  },
  {
   "cell_type": "code",
   "execution_count": 13,
   "id": "df481cfe",
   "metadata": {},
   "outputs": [
    {
     "data": {
      "text/plain": [
       "[45, 55, 77, 66, 88, 99]"
      ]
     },
     "execution_count": 13,
     "metadata": {},
     "output_type": "execute_result"
    }
   ],
   "source": [
    "y = [45,55,66,77,66,88,99]\n",
    "y.remove(66)                # remove 66 first occurence\n",
    "y"
   ]
  },
  {
   "cell_type": "code",
   "execution_count": 14,
   "id": "92a0dc7c",
   "metadata": {},
   "outputs": [
    {
     "data": {
      "text/plain": [
       "[45, 55, 66, 77, 66, 88]"
      ]
     },
     "execution_count": 14,
     "metadata": {},
     "output_type": "execute_result"
    }
   ],
   "source": [
    "y = [45,55,66,77,66,88,99]\n",
    "y.pop()\n",
    "y"
   ]
  },
  {
   "cell_type": "markdown",
   "id": "c73aced7",
   "metadata": {},
   "source": [
    "### 12. Describe how list values and string values are identical.\n",
    "#### Ans:\n",
    " not getting the question."
   ]
  },
  {
   "cell_type": "markdown",
   "id": "ec8b0ae0",
   "metadata": {},
   "source": [
    "### 13. What's the difference between tuples and lists?\n",
    "#### Ans:\n",
    "\"\"\"\n",
    "1)List : lists are mutable. we can change the values means we can add, remove or change the values.\n",
    "\n",
    "we can write list by using square bracket [].\n",
    "\n",
    "\n",
    "\n",
    "2)Tuple: tuples are imutable.we cant make any changes in tuple.\n",
    "\n",
    "we can write tuple by using round bracket ().\n",
    "\"\"\""
   ]
  },
  {
   "cell_type": "markdown",
   "id": "c2957523",
   "metadata": {},
   "source": [
    "### 14. How do you type a tuple value that only contains the integer 42?\n",
    "#### Ans:"
   ]
  },
  {
   "cell_type": "code",
   "execution_count": 15,
   "id": "27c79201",
   "metadata": {},
   "outputs": [
    {
     "data": {
      "text/plain": [
       "(42,)"
      ]
     },
     "execution_count": 15,
     "metadata": {},
     "output_type": "execute_result"
    }
   ],
   "source": [
    "a =(42,)\n",
    "a"
   ]
  },
  {
   "cell_type": "markdown",
   "id": "f4e39a54",
   "metadata": {},
   "source": [
    "### 15. How do you get a list value's tuple form? How do you get a tuple value's list form?\n",
    "#### Ans:\n",
    "by using list() and tuple() function."
   ]
  },
  {
   "cell_type": "code",
   "execution_count": 16,
   "id": "a95cc220",
   "metadata": {},
   "outputs": [
    {
     "data": {
      "text/plain": [
       "(11, 22, 33, 44, 55)"
      ]
     },
     "execution_count": 16,
     "metadata": {},
     "output_type": "execute_result"
    }
   ],
   "source": [
    "lst = [11,22,33,44,55]\n",
    "tuple(lst)"
   ]
  },
  {
   "cell_type": "code",
   "execution_count": 17,
   "id": "337de615",
   "metadata": {},
   "outputs": [
    {
     "data": {
      "text/plain": [
       "[66, 77, 88, 99, 111]"
      ]
     },
     "execution_count": 17,
     "metadata": {},
     "output_type": "execute_result"
    }
   ],
   "source": [
    "tup = (66,77,88,99,111)\n",
    "list(tup)"
   ]
  },
  {
   "cell_type": "markdown",
   "id": "d5743681",
   "metadata": {},
   "source": [
    "### 16. Variables that \"contain\" list values are not necessarily lists themselves. Instead, what do they contain?\n",
    "#### Ans:\n",
    "They contain references to list values"
   ]
  },
  {
   "cell_type": "markdown",
   "id": "d5e959b5",
   "metadata": {},
   "source": [
    "### 17. How do you distinguish between copy.copy() and copy.deepcopy()?\n",
    "#### Ans:\n",
    "#### Shallow copy:\n",
    "A shallow copy creates a copy of the object but references each element of the object. In other words, shallow copy means constructing a new object and then populating it with references to the child objects found in the original object.\n",
    "#### deep copy:\n",
    "A deep copy creates a copy of the object as well as elements of the object. In other words, deep copy means first constructing a new collection object and then recursively populating it with copies of the child objects found in the original."
   ]
  },
  {
   "cell_type": "code",
   "execution_count": 18,
   "id": "6912efe5",
   "metadata": {},
   "outputs": [
    {
     "name": "stdout",
     "output_type": "stream",
     "text": [
      "Numbers =  [[30, 55], [70, 70], [90, 90]]\n",
      "Reference of numbers =  2773723846216\n",
      "\n",
      "Numbers_copy =  [[30, 55], [70, 70], [90, 90]]\n",
      "Reference of numbers_copy =  2773722113864\n"
     ]
    }
   ],
   "source": [
    "# shallow copy\n",
    "import copy\n",
    "numbers = [[30, 30], [70, 70], [90, 90]]\n",
    "numbers_copy = copy.copy(numbers)\n",
    "numbers_copy[0][1] = 55\n",
    "\n",
    "print('Numbers = ', numbers)\n",
    "print('Reference of numbers = ', id(numbers))\n",
    "print()\n",
    "print('Numbers_copy = ', numbers_copy)\n",
    "print('Reference of numbers_copy = ', id(numbers_copy))"
   ]
  },
  {
   "cell_type": "code",
   "execution_count": 19,
   "id": "8f5a549e",
   "metadata": {},
   "outputs": [
    {
     "name": "stdout",
     "output_type": "stream",
     "text": [
      "Numbers =  [[30, 30], [70, 70], [90, 90]]\n",
      "Reference of numbers =  2773722103368\n",
      "\n",
      "Numbers_copy =  [[30, 55], [70, 70], [90, 90]]\n",
      "Reference of numbers_copy =  2773723864200\n"
     ]
    }
   ],
   "source": [
    "# deep copy\n",
    "\n",
    "import copy\n",
    "numbers = [[30, 30], [70, 70], [90, 90]]\n",
    "numbers_copy = copy.deepcopy(numbers)\n",
    "numbers_copy[0][1] = 55\n",
    "\n",
    "print('Numbers = ', numbers)\n",
    "print('Reference of numbers = ', id(numbers))\n",
    "print()\n",
    "print('Numbers_copy = ', numbers_copy)\n",
    "print('Reference of numbers_copy = ', id(numbers_copy))"
   ]
  },
  {
   "cell_type": "code",
   "execution_count": null,
   "id": "4c666faa",
   "metadata": {},
   "outputs": [],
   "source": []
  }
 ],
 "metadata": {
  "kernelspec": {
   "display_name": "Python 3 (ipykernel)",
   "language": "python",
   "name": "python3"
  },
  "language_info": {
   "codemirror_mode": {
    "name": "ipython",
    "version": 3
   },
   "file_extension": ".py",
   "mimetype": "text/x-python",
   "name": "python",
   "nbconvert_exporter": "python",
   "pygments_lexer": "ipython3",
   "version": "3.7.11"
  }
 },
 "nbformat": 4,
 "nbformat_minor": 5
}
