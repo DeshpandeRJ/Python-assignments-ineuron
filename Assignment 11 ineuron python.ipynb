{
 "cells": [
  {
   "cell_type": "markdown",
   "id": "8db9fdb3",
   "metadata": {},
   "source": [
    "### 1. Create an assert statement that throws an AssertionError if the variable spam is a negative integer.\n",
    "#### Ans:\n",
    "The assert statement is used to continue the execute if the given condition evaluates to True. If the assert condition evaluates to False, then it raises the AssertionError exception with the specified error message."
   ]
  },
  {
   "cell_type": "code",
   "execution_count": 1,
   "id": "5ec563eb",
   "metadata": {},
   "outputs": [],
   "source": [
    "import pyinputplus as pypi"
   ]
  },
  {
   "cell_type": "code",
   "execution_count": 2,
   "id": "d5fc8fa0",
   "metadata": {},
   "outputs": [
    {
     "name": "stdout",
     "output_type": "stream",
     "text": [
      "Enter the positive input: -5\n"
     ]
    },
    {
     "ename": "AssertionError",
     "evalue": "",
     "output_type": "error",
     "traceback": [
      "\u001b[1;31m---------------------------------------------------------------------------\u001b[0m",
      "\u001b[1;31mAssertionError\u001b[0m                            Traceback (most recent call last)",
      "\u001b[1;32m~\\AppData\\Local\\Temp/ipykernel_16648/3818981921.py\u001b[0m in \u001b[0;36m<module>\u001b[1;34m\u001b[0m\n\u001b[0;32m      1\u001b[0m \u001b[0mx\u001b[0m \u001b[1;33m=\u001b[0m \u001b[0mpypi\u001b[0m\u001b[1;33m.\u001b[0m\u001b[0minputInt\u001b[0m\u001b[1;33m(\u001b[0m\u001b[1;34m'Enter the positive input: '\u001b[0m\u001b[1;33m)\u001b[0m\u001b[1;33m\u001b[0m\u001b[1;33m\u001b[0m\u001b[0m\n\u001b[1;32m----> 2\u001b[1;33m \u001b[1;32massert\u001b[0m \u001b[0mx\u001b[0m \u001b[1;33m>\u001b[0m \u001b[1;36m0\u001b[0m\u001b[1;33m\u001b[0m\u001b[1;33m\u001b[0m\u001b[0m\n\u001b[0m\u001b[0;32m      3\u001b[0m \u001b[0mprint\u001b[0m\u001b[1;33m(\u001b[0m\u001b[0mx\u001b[0m\u001b[1;33m,\u001b[0m\u001b[1;34m'is a positive number.'\u001b[0m\u001b[1;33m)\u001b[0m\u001b[1;33m\u001b[0m\u001b[1;33m\u001b[0m\u001b[0m\n",
      "\u001b[1;31mAssertionError\u001b[0m: "
     ]
    }
   ],
   "source": [
    "x = pypi.inputInt('Enter the positive input: ')\n",
    "assert x > 0\n",
    "print(x,'is a positive number.')"
   ]
  },
  {
   "cell_type": "markdown",
   "id": "bbc41201",
   "metadata": {},
   "source": [
    "### 2. Write an assert statement that triggers an AssertionError if the variables eggs and bacon contain strings that are the same as each other, even if their cases are different (that is, 'hello' and 'hello' are considered the same, and 'goodbye' and 'GOODbye' are also considered the same).\n",
    "#### Ans:"
   ]
  },
  {
   "cell_type": "code",
   "execution_count": 3,
   "id": "c46fcead",
   "metadata": {},
   "outputs": [
    {
     "ename": "AssertionError",
     "evalue": "",
     "output_type": "error",
     "traceback": [
      "\u001b[1;31m---------------------------------------------------------------------------\u001b[0m",
      "\u001b[1;31mAssertionError\u001b[0m                            Traceback (most recent call last)",
      "\u001b[1;32m~\\AppData\\Local\\Temp/ipykernel_16648/2531468249.py\u001b[0m in \u001b[0;36m<module>\u001b[1;34m\u001b[0m\n\u001b[0;32m      1\u001b[0m \u001b[0meggs\u001b[0m \u001b[1;33m=\u001b[0m \u001b[1;34m'heLLo'\u001b[0m\u001b[1;33m\u001b[0m\u001b[1;33m\u001b[0m\u001b[0m\n\u001b[0;32m      2\u001b[0m \u001b[0mbacon\u001b[0m \u001b[1;33m=\u001b[0m \u001b[1;34m'Hello'\u001b[0m\u001b[1;33m\u001b[0m\u001b[1;33m\u001b[0m\u001b[0m\n\u001b[1;32m----> 3\u001b[1;33m \u001b[1;32massert\u001b[0m \u001b[0meggs\u001b[0m\u001b[1;33m.\u001b[0m\u001b[0mlower\u001b[0m\u001b[1;33m(\u001b[0m\u001b[1;33m)\u001b[0m \u001b[1;33m!=\u001b[0m \u001b[0mbacon\u001b[0m\u001b[1;33m.\u001b[0m\u001b[0mlower\u001b[0m\u001b[1;33m(\u001b[0m\u001b[1;33m)\u001b[0m \u001b[1;32mor\u001b[0m \u001b[0meggs\u001b[0m\u001b[1;33m.\u001b[0m\u001b[0mupper\u001b[0m\u001b[1;33m(\u001b[0m\u001b[1;33m)\u001b[0m \u001b[1;33m!=\u001b[0m \u001b[0mbacon\u001b[0m\u001b[1;33m.\u001b[0m\u001b[0mupper\u001b[0m\u001b[1;33m(\u001b[0m\u001b[1;33m)\u001b[0m\u001b[1;33m\u001b[0m\u001b[1;33m\u001b[0m\u001b[0m\n\u001b[0m\u001b[0;32m      4\u001b[0m \u001b[0mprint\u001b[0m\u001b[1;33m(\u001b[0m\u001b[1;34m'eggs and bacon are same variables'\u001b[0m\u001b[1;33m)\u001b[0m\u001b[1;33m\u001b[0m\u001b[1;33m\u001b[0m\u001b[0m\n",
      "\u001b[1;31mAssertionError\u001b[0m: "
     ]
    }
   ],
   "source": [
    "eggs = 'heLLo'\n",
    "bacon = 'Hello'\n",
    "assert eggs.lower() != bacon.lower() or eggs.upper() != bacon.upper()\n",
    "print('eggs and bacon are same variables')"
   ]
  },
  {
   "cell_type": "markdown",
   "id": "9fa19a99",
   "metadata": {},
   "source": [
    "### 3. Create an assert statement that throws an AssertionError every time.\n",
    "#### Ans:\n",
    "assert False -> this always triggers an exception"
   ]
  },
  {
   "cell_type": "code",
   "execution_count": 4,
   "id": "3a6166cd",
   "metadata": {},
   "outputs": [
    {
     "ename": "AssertionError",
     "evalue": "",
     "output_type": "error",
     "traceback": [
      "\u001b[1;31m---------------------------------------------------------------------------\u001b[0m",
      "\u001b[1;31mAssertionError\u001b[0m                            Traceback (most recent call last)",
      "\u001b[1;32m~\\AppData\\Local\\Temp/ipykernel_16648/2103537015.py\u001b[0m in \u001b[0;36m<module>\u001b[1;34m\u001b[0m\n\u001b[1;32m----> 1\u001b[1;33m \u001b[1;32massert\u001b[0m \u001b[1;32mFalse\u001b[0m\u001b[1;33m\u001b[0m\u001b[1;33m\u001b[0m\u001b[0m\n\u001b[0m",
      "\u001b[1;31mAssertionError\u001b[0m: "
     ]
    }
   ],
   "source": [
    "assert False"
   ]
  },
  {
   "cell_type": "markdown",
   "id": "2f1e63b8",
   "metadata": {},
   "source": [
    "### 4. What are the two lines that must be present in your software in order to call logging.debug()?\n",
    "#### Ans:\n",
    "\"\"\"\n",
    "\n",
    "To be able to call logging.debug(), you must have these two lines at the start of your program:\n",
    "\n",
    "import logging\n",
    "\n",
    "logging.basicConfig(level=logging.DEBUG, format=' %(asctime)s - %(levelname)s - %(message)s')\n",
    "\n",
    "\"\"\""
   ]
  },
  {
   "cell_type": "code",
   "execution_count": 5,
   "id": "3eec737b",
   "metadata": {},
   "outputs": [],
   "source": [
    "import logging as lg\n",
    "lg.basicConfig(level=lg.DEBUG, format=' %(asctime)s - %(levelname)s - %(message)s')"
   ]
  },
  {
   "cell_type": "markdown",
   "id": "ce97c6e4",
   "metadata": {},
   "source": [
    "### 5. What are the two lines that your program must have in order to have logging.debug() send a logging message to a file named programLog.txt?\n",
    "#### Ans:\n",
    "\"\"\"\n",
    "\n",
    "To be able to send logging messages to a file named programLog.txt with logging.debug(), you must have these two lines at the start of your program:\n",
    "\n",
    "\n",
    "import logging\n",
    "\n",
    "logging.basicConfig(filename='programLog.txt', level=logging.DEBUG,format=' %(asctime)s - %(levelname)s - %(message)s')\n",
    "\n",
    "\"\"\""
   ]
  },
  {
   "cell_type": "code",
   "execution_count": 6,
   "id": "037efd1c",
   "metadata": {},
   "outputs": [],
   "source": [
    "import logging as lg\n",
    "lg.basicConfig(filename= ' programLog.txt',level = lg.DEBUG, format =' %(asctime)s - %(levelname)s - %(message)s')"
   ]
  },
  {
   "cell_type": "markdown",
   "id": "8450a4b1",
   "metadata": {},
   "source": [
    "### 6. What are the five levels of logging?\n",
    "#### Ans:\n",
    "\"\"\"\n",
    "1)Debug\n",
    "\n",
    "2)info \n",
    "\n",
    "3)Warning\n",
    "\n",
    "4)Error\n",
    "\n",
    "5)critical\n",
    "\n",
    "logging.debug() - variable's state and small details\n",
    "\n",
    "logging.info() - general events, confirm a program is working\n",
    "\n",
    "logging.warning() - potiental problem to work on in the future\n",
    "\n",
    "logging.error() - record an error that caused program to fail to do something\n",
    "\n",
    "logging.critical() - fatal error that has caused\n",
    "\n",
    "\"\"\""
   ]
  },
  {
   "cell_type": "markdown",
   "id": "10ce3fab",
   "metadata": {},
   "source": [
    "### 7. What line of code would you add to your software to disable all logging messages?\n",
    "#### Ans:\n",
    "logging.disable(level) -> Disables all logging calls of severity 'level' and below. set level = logging.CRITICAL since\n",
    "CRITICAL being the highest level , every other level loggings will be disabled."
   ]
  },
  {
   "cell_type": "code",
   "execution_count": 7,
   "id": "6952d105",
   "metadata": {},
   "outputs": [],
   "source": [
    "import logging as lg\n",
    "lg.disable(lg.CRITICAL)"
   ]
  },
  {
   "cell_type": "markdown",
   "id": "e8cf32b6",
   "metadata": {},
   "source": [
    "### 8.Why is using logging messages better than using print() to display the same message?\n",
    "#### Ans:\n",
    "\"\"\"\n",
    "\n",
    "You can disable logging messages without removing the logging function calls. \n",
    "\n",
    "You can selectively disable lower-level logging messages. \n",
    "\n",
    "You can create logging messages. Logging messages provides a timestamp.\n",
    "\n",
    "\"\"\""
   ]
  },
  {
   "cell_type": "markdown",
   "id": "c612ee3b",
   "metadata": {},
   "source": [
    "### 9. What are the differences between the Step Over, Step In, and Step Out buttons in the debugger?\n",
    "#### Ans:\n",
    "\"\"\"\n",
    "\n",
    "The Step in button will move the debugger into a function call. \n",
    "\n",
    "The step Over button will quickly execute the function call without stepping into it. \n",
    "\n",
    "The step Out button will quickly execute the rest of the code until it steps out of the function it currently is in.\n",
    "\n",
    "\"\"\""
   ]
  },
  {
   "cell_type": "markdown",
   "id": "b0925bd6",
   "metadata": {},
   "source": [
    "### 10.After you click Continue, when will the debugger stop ?\n",
    "#### Ans:\n",
    "\"\"\"\n",
    "\n",
    "It will stops at next breakpoint, if there are no further breakpoints program will be fully executed.\n",
    "\n",
    "after you click Go, the debugger will stop when it has reached the end of the program or a line with a breakpoint.\n",
    "\n",
    "\"\"\""
   ]
  },
  {
   "cell_type": "markdown",
   "id": "bf45c38a",
   "metadata": {},
   "source": [
    "### 11. What is the concept of a breakpoint?\n",
    "#### ANs:\n",
    "A breakpoint is a setting on a line of code that causes the debugger to pause when the program execution reaches the line"
   ]
  },
  {
   "cell_type": "code",
   "execution_count": null,
   "id": "495d89c8",
   "metadata": {},
   "outputs": [],
   "source": []
  }
 ],
 "metadata": {
  "kernelspec": {
   "display_name": "Python 3 (ipykernel)",
   "language": "python",
   "name": "python3"
  },
  "language_info": {
   "codemirror_mode": {
    "name": "ipython",
    "version": 3
   },
   "file_extension": ".py",
   "mimetype": "text/x-python",
   "name": "python",
   "nbconvert_exporter": "python",
   "pygments_lexer": "ipython3",
   "version": "3.7.11"
  }
 },
 "nbformat": 4,
 "nbformat_minor": 5
}
