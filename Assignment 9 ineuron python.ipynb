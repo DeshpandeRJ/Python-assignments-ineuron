{
 "cells": [
  {
   "cell_type": "markdown",
   "id": "732a9dd2",
   "metadata": {},
   "source": [
    "### 1. To what does a relative path refer?\n",
    "#### Ans:\n",
    "\"\"\"\n",
    "The relative path is the path of a file with respect to your current working directory (PWD).\n",
    "\n",
    "The absolute path is helpful, but it can become complex very soon. So, to minimize this complexity, a relative path is used. Relative path means the path of a certain file relative to the current working directory.\n",
    "\n",
    "For example, if the current working directory is C:\\PythonProjects\\Tutorials, the path.py file’s relative path would be \\Paths\\paths.py which is shorter and easier to use than the absolute path C:\\PythonProjects\\Tutorials\\Paths\\paths.py.\n",
    "\n",
    "\"\"\""
   ]
  },
  {
   "cell_type": "markdown",
   "id": "b2139ef4",
   "metadata": {},
   "source": [
    "### 2. What does an absolute path start with your operating system?\n",
    "#### Ans:\n",
    "An absolute path of a file is the complete path from the root directory to that particular file. For example, C:\\PythonProjects\\Tutorials\\Paths\\paths.py is the absolute path of paths.py file."
   ]
  },
  {
   "cell_type": "markdown",
   "id": "c476e760",
   "metadata": {},
   "source": [
    "### 3. What do the functions os.getcwd() and os.chdir() do?\n",
    "#### Ans:\n",
    "\"\"\"\n",
    "os.getcwd() stands for the 'get current working directory'. it returns the absolute path of working directory as a string where the python is currently running.\n",
    "\n",
    "os.chdir() stands for the 'changing directory'. it is used to change current working directory.it takes only single argument as a new directory path.\n",
    "\n",
    "\"\"\""
   ]
  },
  {
   "cell_type": "markdown",
   "id": "27b3d6d7",
   "metadata": {},
   "source": [
    "### 4. What are the . and .. folders?\n",
    "#### Ans:\n",
    "\"\"\"\n",
    "The . is the current directory, while .. signifies the parent directory. \n",
    "\n",
    "It makes things quicker at the command line as well so you don't need to type out full paths.\n",
    "\n",
    "\"\"\""
   ]
  },
  {
   "cell_type": "markdown",
   "id": "8ce42eda",
   "metadata": {},
   "source": [
    "### 5. In C:\\bacon\\eggs\\spam.txt, which part is the dir name, and which part is the base name?\n",
    "#### Ans:\n",
    "\"\"\"\n",
    "In C:\\bacon\\eggs\\spam.txt , 'C:\\bacon\\eggs' is the dir name and spam.txt is the base name.\n",
    "\n",
    "os.path.dirname() can be used to extract dir name.\n",
    "\n",
    "os.path.basename() can be used to extract base name.\n",
    "\n",
    "\"\"\"\n",
    "   "
   ]
  },
  {
   "cell_type": "markdown",
   "id": "093d9b2f",
   "metadata": {},
   "source": [
    "### 6. What are the three “mode” arguments that can be passed to the open() function?\n",
    "#### Ans:\n",
    "\"\"\"\n",
    "\n",
    "The string 'r' for read mode, 'w' for write mode, and 'a' for append mode\n",
    "\n",
    "\"\"\""
   ]
  },
  {
   "cell_type": "markdown",
   "id": "23de4e4f",
   "metadata": {},
   "source": [
    "### 7. What happens if an existing file is opened in write mode?\n",
    "#### Ans:\n",
    "\"\"\"\n",
    "when a existing file is opened in write mode, contens which were previously present will be overwritten by new content passed.\n",
    "\n",
    "An existing file opened in write mode is erased and completely overwritten.\n",
    "\n",
    "\"\"\""
   ]
  },
  {
   "cell_type": "markdown",
   "id": "565f86b7",
   "metadata": {},
   "source": [
    "### 8. How do you tell the difference between read() and readlines()?\n",
    "#### Ans:\n",
    "\"\"\"\n",
    "The read() method returns the file's entire contents as a single string value. The readlines() method returns a list of strings, where each string is a line from the file's contents.\n",
    "\n",
    "\"\"\""
   ]
  },
  {
   "cell_type": "markdown",
   "id": "0dc12ca6",
   "metadata": {},
   "source": [
    "### 9. What data structure does a shelf value resemble?\n",
    "#### Ans:\n",
    "\"\"\"\n",
    "A shelf value resembles a dictionary value; it has keys and values, along with keys() and values() methods that work similarly to the dictionary methods of the same names.\n",
    "\n",
    "\"\"\""
   ]
  },
  {
   "cell_type": "code",
   "execution_count": null,
   "id": "8273d8e6",
   "metadata": {},
   "outputs": [],
   "source": []
  }
 ],
 "metadata": {
  "kernelspec": {
   "display_name": "Python 3 (ipykernel)",
   "language": "python",
   "name": "python3"
  },
  "language_info": {
   "codemirror_mode": {
    "name": "ipython",
    "version": 3
   },
   "file_extension": ".py",
   "mimetype": "text/x-python",
   "name": "python",
   "nbconvert_exporter": "python",
   "pygments_lexer": "ipython3",
   "version": "3.7.11"
  }
 },
 "nbformat": 4,
 "nbformat_minor": 5
}
